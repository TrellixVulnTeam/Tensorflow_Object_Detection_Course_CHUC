{
 "metadata": {
  "language_info": {
   "codemirror_mode": {
    "name": "ipython",
    "version": 3
   },
   "file_extension": ".py",
   "mimetype": "text/x-python",
   "name": "python",
   "nbconvert_exporter": "python",
   "pygments_lexer": "ipython3",
   "version": "3.8.10"
  },
  "orig_nbformat": 4,
  "kernelspec": {
   "name": "python3",
   "display_name": "Python 3.8.10 64-bit ('Tensorflow_Object_Detection_env': conda)"
  },
  "interpreter": {
   "hash": "7b28dd33a1554efa43042236e43ffa0477e6db1bbb866d3eb2dd7406a64bc7c4"
  }
 },
 "nbformat": 4,
 "nbformat_minor": 2,
 "cells": [
  {
   "source": [
    "# 1. Import Dependencies"
   ],
   "cell_type": "markdown",
   "metadata": {}
  },
  {
   "cell_type": "code",
   "execution_count": 1,
   "metadata": {},
   "outputs": [
    {
     "output_type": "stream",
     "name": "stderr",
     "text": [
      "2021-07-21 11:02:00.591625: W tensorflow/stream_executor/platform/default/dso_loader.cc:64] Could not load dynamic library 'libcudart.so.11.0'; dlerror: libcudart.so.11.0: cannot open shared object file: No such file or directory\n2021-07-21 11:02:00.591655: I tensorflow/stream_executor/cuda/cudart_stub.cc:29] Ignore above cudart dlerror if you do not have a GPU set up on your machine.\n"
     ]
    }
   ],
   "source": [
    "import tensorflow as tf"
   ]
  },
  {
   "cell_type": "code",
   "execution_count": 2,
   "metadata": {},
   "outputs": [],
   "source": [
    "import cv2\n",
    "import uuid # allow us to name our image in an uniquely manner\n",
    "import os\n",
    "import time"
   ]
  },
  {
   "source": [
    "# 2. Define Images to Collect"
   ],
   "cell_type": "markdown",
   "metadata": {}
  },
  {
   "cell_type": "code",
   "execution_count": 35,
   "metadata": {},
   "outputs": [],
   "source": [
    "labels = ['thumbsup','thumbsdown','thankyou','goodluck']\n",
    "labels = ['goodluck']\n",
    "# labels =['thumbsup] in order to capture only image for this class\n",
    "number_imgs = 5 # to start we collect only 5 images of each category"
   ]
  },
  {
   "cell_type": "code",
   "execution_count": 29,
   "metadata": {},
   "outputs": [],
   "source": [
    "IMAGES_PATH = os.path.join('Workspace','Images','CollectedImages')"
   ]
  },
  {
   "cell_type": "code",
   "execution_count": 21,
   "metadata": {},
   "outputs": [
    {
     "output_type": "execute_result",
     "data": {
      "text/plain": [
       "'posix'"
      ]
     },
     "metadata": {},
     "execution_count": 21
    }
   ],
   "source": [
    "os.name"
   ]
  },
  {
   "cell_type": "code",
   "execution_count": 15,
   "metadata": {},
   "outputs": [],
   "source": [
    "if not os.path.exists(IMAGES_PATH):\n",
    "    if os.name == \"posix\": # this means it's a linux base machine\n",
    "        !mkdir -p {IMAGES_PATH}\n",
    "    if os.name == 'nt': #this means it's a windows machine\n",
    "        !mkdir {IMAGES_PATH}\n",
    "for label in labels: # create one folder for each image category\n",
    "    PATH = os.path.join(IMAGES_PATH,label)\n",
    "    if not os.path.exists(PATH):\n",
    "            !mkdir {PATH}"
   ]
  },
  {
   "cell_type": "code",
   "execution_count": 6,
   "metadata": {},
   "outputs": [
    {
     "output_type": "error",
     "ename": "NameError",
     "evalue": "name 'PATH' is not defined",
     "traceback": [
      "\u001b[0;31m---------------------------------------------------------------------------\u001b[0m",
      "\u001b[0;31mNameError\u001b[0m                                 Traceback (most recent call last)",
      "\u001b[0;32m/tmp/ipykernel_3568/1242942902.py\u001b[0m in \u001b[0;36m<module>\u001b[0;34m\u001b[0m\n\u001b[0;32m----> 1\u001b[0;31m \u001b[0mprint\u001b[0m\u001b[0;34m(\u001b[0m\u001b[0mPATH\u001b[0m\u001b[0;34m)\u001b[0m\u001b[0;34m\u001b[0m\u001b[0;34m\u001b[0m\u001b[0m\n\u001b[0m",
      "\u001b[0;31mNameError\u001b[0m: name 'PATH' is not defined"
     ]
    }
   ],
   "source": [
    "print(PATH)"
   ]
  },
  {
   "source": [
    "# 4. Capture Images"
   ],
   "cell_type": "markdown",
   "metadata": {}
  },
  {
   "cell_type": "code",
   "execution_count": 36,
   "metadata": {
    "tags": []
   },
   "outputs": [],
   "source": [
    "def captureImage():\n",
    "    cap = cv2.VideoCapture(0) # connect to the camera\n",
    "    for label in labels:\n",
    "        if cap.isOpened():\n",
    "            print ('Collecting images for {}'. format(label))\n",
    "            time.sleep(5)\n",
    "            for imgnum in range(number_imgs):\n",
    "                print('Collecting image {}'.format(imgnum))\n",
    "                ret, frame = cap.read()\n",
    "                imgname = os.path.join(IMAGES_PATH,label,label+'.'+'{}.jpg'.format(str(uuid.uuid1())))\n",
    "                cv2.imwrite(imgname,frame)\n",
    "                cv2.imshow('frameCapture',frame)\n",
    "                time.sleep(5)\n",
    "\n",
    "                if cv2.waitKey(1) & 0xFF == ord('q'):\n",
    "                    break\n",
    "    cap.release()\n",
    "    cv2.destroyAllWindows()\n",
    "\n"
   ]
  },
  {
   "cell_type": "code",
   "execution_count": 37,
   "metadata": {},
   "outputs": [
    {
     "output_type": "execute_result",
     "data": {
      "text/plain": [
       "'Workspace/Images/CollectedImages'"
      ]
     },
     "metadata": {},
     "execution_count": 37
    }
   ],
   "source": [
    "IMAGES_PATH"
   ]
  },
  {
   "cell_type": "code",
   "execution_count": 38,
   "metadata": {},
   "outputs": [],
   "source": [
    "tf.config.run_functions_eagerly(True)"
   ]
  },
  {
   "cell_type": "code",
   "execution_count": 39,
   "metadata": {},
   "outputs": [
    {
     "output_type": "stream",
     "name": "stdout",
     "text": [
      "1_Image_Collection.ipynb        Help_file.md  \u001b[0m\u001b[01;34mprotoc\u001b[0m/   \u001b[01;34mWorkspace\u001b[0m/\n2_Training_and_Detection.ipynb  \u001b[01;34mModels\u001b[0m/       \u001b[01;34mScripts\u001b[0m/\n"
     ]
    }
   ],
   "source": [
    "ls"
   ]
  },
  {
   "cell_type": "code",
   "execution_count": 41,
   "metadata": {},
   "outputs": [
    {
     "output_type": "stream",
     "name": "stdout",
     "text": [
      "Collecting images for goodluck\n",
      "Collecting image 0\n",
      "QObject::moveToThread: Current thread (0x55c2cd43d060) is not the object's thread (0x55c2cd4ab240).\n",
      "Cannot move to target thread (0x55c2cd43d060)\n",
      "\n",
      "QObject::moveToThread: Current thread (0x55c2cd43d060) is not the object's thread (0x55c2cd4ab240).\n",
      "Cannot move to target thread (0x55c2cd43d060)\n",
      "\n",
      "QObject::moveToThread: Current thread (0x55c2cd43d060) is not the object's thread (0x55c2cd4ab240).\n",
      "Cannot move to target thread (0x55c2cd43d060)\n",
      "\n",
      "QObject::moveToThread: Current thread (0x55c2cd43d060) is not the object's thread (0x55c2cd4ab240).\n",
      "Cannot move to target thread (0x55c2cd43d060)\n",
      "\n",
      "QObject::moveToThread: Current thread (0x55c2cd43d060) is not the object's thread (0x55c2cd4ab240).\n",
      "Cannot move to target thread (0x55c2cd43d060)\n",
      "\n",
      "QObject::moveToThread: Current thread (0x55c2cd43d060) is not the object's thread (0x55c2cd4ab240).\n",
      "Cannot move to target thread (0x55c2cd43d060)\n",
      "\n",
      "QObject::moveToThread: Current thread (0x55c2cd43d060) is not the object's thread (0x55c2cd4ab240).\n",
      "Cannot move to target thread (0x55c2cd43d060)\n",
      "\n",
      "QObject::moveToThread: Current thread (0x55c2cd43d060) is not the object's thread (0x55c2cd4ab240).\n",
      "Cannot move to target thread (0x55c2cd43d060)\n",
      "\n",
      "QObject::moveToThread: Current thread (0x55c2cd43d060) is not the object's thread (0x55c2cd4ab240).\n",
      "Cannot move to target thread (0x55c2cd43d060)\n",
      "\n",
      "QObject::moveToThread: Current thread (0x55c2cd43d060) is not the object's thread (0x55c2cd4ab240).\n",
      "Cannot move to target thread (0x55c2cd43d060)\n",
      "\n",
      "QObject::moveToThread: Current thread (0x55c2cd43d060) is not the object's thread (0x55c2cd4ab240).\n",
      "Cannot move to target thread (0x55c2cd43d060)\n",
      "\n",
      "QObject::moveToThread: Current thread (0x55c2cd43d060) is not the object's thread (0x55c2cd4ab240).\n",
      "Cannot move to target thread (0x55c2cd43d060)\n",
      "\n",
      "QObject::moveToThread: Current thread (0x55c2cd43d060) is not the object's thread (0x55c2cd4ab240).\n",
      "Cannot move to target thread (0x55c2cd43d060)\n",
      "\n",
      "QObject::moveToThread: Current thread (0x55c2cd43d060) is not the object's thread (0x55c2cd4ab240).\n",
      "Cannot move to target thread (0x55c2cd43d060)\n",
      "\n",
      "QObject::moveToThread: Current thread (0x55c2cd43d060) is not the object's thread (0x55c2cd4ab240).\n",
      "Cannot move to target thread (0x55c2cd43d060)\n",
      "\n",
      "QObject::moveToThread: Current thread (0x55c2cd43d060) is not the object's thread (0x55c2cd4ab240).\n",
      "Cannot move to target thread (0x55c2cd43d060)\n",
      "\n",
      "QObject::moveToThread: Current thread (0x55c2cd43d060) is not the object's thread (0x55c2cd4ab240).\n",
      "Cannot move to target thread (0x55c2cd43d060)\n",
      "\n",
      "QObject::moveToThread: Current thread (0x55c2cd43d060) is not the object's thread (0x55c2cd4ab240).\n",
      "Cannot move to target thread (0x55c2cd43d060)\n",
      "\n",
      "QObject::moveToThread: Current thread (0x55c2cd43d060) is not the object's thread (0x55c2cd4ab240).\n",
      "Cannot move to target thread (0x55c2cd43d060)\n",
      "\n",
      "QObject::moveToThread: Current thread (0x55c2cd43d060) is not the object's thread (0x55c2cd4ab240).\n",
      "Cannot move to target thread (0x55c2cd43d060)\n",
      "\n",
      "QObject::moveToThread: Current thread (0x55c2cd43d060) is not the object's thread (0x55c2cd4ab240).\n",
      "Cannot move to target thread (0x55c2cd43d060)\n",
      "\n",
      "QObject::moveToThread: Current thread (0x55c2cd43d060) is not the object's thread (0x55c2cd4ab240).\n",
      "Cannot move to target thread (0x55c2cd43d060)\n",
      "\n",
      "QObject::moveToThread: Current thread (0x55c2cd43d060) is not the object's thread (0x55c2cd4ab240).\n",
      "Cannot move to target thread (0x55c2cd43d060)\n",
      "\n",
      "QObject::moveToThread: Current thread (0x55c2cd43d060) is not the object's thread (0x55c2cd4ab240).\n",
      "Cannot move to target thread (0x55c2cd43d060)\n",
      "\n",
      "QObject::moveToThread: Current thread (0x55c2cd43d060) is not the object's thread (0x55c2cd4ab240).\n",
      "Cannot move to target thread (0x55c2cd43d060)\n",
      "\n",
      "QObject::moveToThread: Current thread (0x55c2cd43d060) is not the object's thread (0x55c2cd4ab240).\n",
      "Cannot move to target thread (0x55c2cd43d060)\n",
      "\n",
      "QObject::moveToThread: Current thread (0x55c2cd43d060) is not the object's thread (0x55c2cd4ab240).\n",
      "Cannot move to target thread (0x55c2cd43d060)\n",
      "\n",
      "QObject::moveToThread: Current thread (0x55c2cd43d060) is not the object's thread (0x55c2cd4ab240).\n",
      "Cannot move to target thread (0x55c2cd43d060)\n",
      "\n",
      "QObject::moveToThread: Current thread (0x55c2cd43d060) is not the object's thread (0x55c2cd4ab240).\n",
      "Cannot move to target thread (0x55c2cd43d060)\n",
      "\n",
      "QObject::moveToThread: Current thread (0x55c2cd43d060) is not the object's thread (0x55c2cd4ab240).\n",
      "Cannot move to target thread (0x55c2cd43d060)\n",
      "\n",
      "QObject::moveToThread: Current thread (0x55c2cd43d060) is not the object's thread (0x55c2cd4ab240).\n",
      "Cannot move to target thread (0x55c2cd43d060)\n",
      "\n",
      "QObject::moveToThread: Current thread (0x55c2cd43d060) is not the object's thread (0x55c2cd4ab240).\n",
      "Cannot move to target thread (0x55c2cd43d060)\n",
      "\n",
      "QObject::moveToThread: Current thread (0x55c2cd43d060) is not the object's thread (0x55c2cd4ab240).\n",
      "Cannot move to target thread (0x55c2cd43d060)\n",
      "\n",
      "QObject::moveToThread: Current thread (0x55c2cd43d060) is not the object's thread (0x55c2cd4ab240).\n",
      "Cannot move to target thread (0x55c2cd43d060)\n",
      "\n",
      "QObject::moveToThread: Current thread (0x55c2cd43d060) is not the object's thread (0x55c2cd4ab240).\n",
      "Cannot move to target thread (0x55c2cd43d060)\n",
      "\n",
      "QObject::moveToThread: Current thread (0x55c2cd43d060) is not the object's thread (0x55c2cd4ab240).\n",
      "Cannot move to target thread (0x55c2cd43d060)\n",
      "\n",
      "QObject::moveToThread: Current thread (0x55c2cd43d060) is not the object's thread (0x55c2cd4ab240).\n",
      "Cannot move to target thread (0x55c2cd43d060)\n",
      "\n",
      "QObject::moveToThread: Current thread (0x55c2cd43d060) is not the object's thread (0x55c2cd4ab240).\n",
      "Cannot move to target thread (0x55c2cd43d060)\n",
      "\n",
      "QObject::moveToThread: Current thread (0x55c2cd43d060) is not the object's thread (0x55c2cd4ab240).\n",
      "Cannot move to target thread (0x55c2cd43d060)\n",
      "\n",
      "QObject::moveToThread: Current thread (0x55c2cd43d060) is not the object's thread (0x55c2cd4ab240).\n",
      "Cannot move to target thread (0x55c2cd43d060)\n",
      "\n",
      "QObject::moveToThread: Current thread (0x55c2cd43d060) is not the object's thread (0x55c2cd4ab240).\n",
      "Cannot move to target thread (0x55c2cd43d060)\n",
      "\n",
      "QObject::moveToThread: Current thread (0x55c2cd43d060) is not the object's thread (0x55c2cd4ab240).\n",
      "Cannot move to target thread (0x55c2cd43d060)\n",
      "\n",
      "QObject::moveToThread: Current thread (0x55c2cd43d060) is not the object's thread (0x55c2cd4ab240).\n",
      "Cannot move to target thread (0x55c2cd43d060)\n",
      "\n",
      "QObject::moveToThread: Current thread (0x55c2cd43d060) is not the object's thread (0x55c2cd4ab240).\n",
      "Cannot move to target thread (0x55c2cd43d060)\n",
      "\n",
      "QObject::moveToThread: Current thread (0x55c2cd43d060) is not the object's thread (0x55c2cd4ab240).\n",
      "Cannot move to target thread (0x55c2cd43d060)\n",
      "\n",
      "QObject::moveToThread: Current thread (0x55c2cd43d060) is not the object's thread (0x55c2cd4ab240).\n",
      "Cannot move to target thread (0x55c2cd43d060)\n",
      "\n",
      "QObject::moveToThread: Current thread (0x55c2cd43d060) is not the object's thread (0x55c2cd4ab240).\n",
      "Cannot move to target thread (0x55c2cd43d060)\n",
      "\n",
      "QObject::moveToThread: Current thread (0x55c2cd43d060) is not the object's thread (0x55c2cd4ab240).\n",
      "Cannot move to target thread (0x55c2cd43d060)\n",
      "\n",
      "QObject::moveToThread: Current thread (0x55c2cd43d060) is not the object's thread (0x55c2cd4ab240).\n",
      "Cannot move to target thread (0x55c2cd43d060)\n",
      "\n",
      "QObject::moveToThread: Current thread (0x55c2cd43d060) is not the object's thread (0x55c2cd4ab240).\n",
      "Cannot move to target thread (0x55c2cd43d060)\n",
      "\n",
      "QObject::moveToThread: Current thread (0x55c2cd43d060) is not the object's thread (0x55c2cd4ab240).\n",
      "Cannot move to target thread (0x55c2cd43d060)\n",
      "\n",
      "QObject::moveToThread: Current thread (0x55c2cd43d060) is not the object's thread (0x55c2cd4ab240).\n",
      "Cannot move to target thread (0x55c2cd43d060)\n",
      "\n",
      "QObject::moveToThread: Current thread (0x55c2cd43d060) is not the object's thread (0x55c2cd4ab240).\n",
      "Cannot move to target thread (0x55c2cd43d060)\n",
      "\n",
      "QObject::moveToThread: Current thread (0x55c2cd43d060) is not the object's thread (0x55c2cd4ab240).\n",
      "Cannot move to target thread (0x55c2cd43d060)\n",
      "\n",
      "QObject::moveToThread: Current thread (0x55c2cd43d060) is not the object's thread (0x55c2cd4ab240).\n",
      "Cannot move to target thread (0x55c2cd43d060)\n",
      "\n",
      "QObject::moveToThread: Current thread (0x55c2cd43d060) is not the object's thread (0x55c2cd4ab240).\n",
      "Cannot move to target thread (0x55c2cd43d060)\n",
      "\n",
      "QObject::moveToThread: Current thread (0x55c2cd43d060) is not the object's thread (0x55c2cd4ab240).\n",
      "Cannot move to target thread (0x55c2cd43d060)\n",
      "\n",
      "QObject::moveToThread: Current thread (0x55c2cd43d060) is not the object's thread (0x55c2cd4ab240).\n",
      "Cannot move to target thread (0x55c2cd43d060)\n",
      "\n",
      "QObject::moveToThread: Current thread (0x55c2cd43d060) is not the object's thread (0x55c2cd4ab240).\n",
      "Cannot move to target thread (0x55c2cd43d060)\n",
      "\n",
      "QObject::moveToThread: Current thread (0x55c2cd43d060) is not the object's thread (0x55c2cd4ab240).\n",
      "Cannot move to target thread (0x55c2cd43d060)\n",
      "\n",
      "QObject::moveToThread: Current thread (0x55c2cd43d060) is not the object's thread (0x55c2cd4ab240).\n",
      "Cannot move to target thread (0x55c2cd43d060)\n",
      "\n",
      "QObject::moveToThread: Current thread (0x55c2cd43d060) is not the object's thread (0x55c2cd4ab240).\n",
      "Cannot move to target thread (0x55c2cd43d060)\n",
      "\n",
      "QObject::moveToThread: Current thread (0x55c2cd43d060) is not the object's thread (0x55c2cd4ab240).\n",
      "Cannot move to target thread (0x55c2cd43d060)\n",
      "\n",
      "QObject::moveToThread: Current thread (0x55c2cd43d060) is not the object's thread (0x55c2cd4ab240).\n",
      "Cannot move to target thread (0x55c2cd43d060)\n",
      "\n",
      "QObject::moveToThread: Current thread (0x55c2cd43d060) is not the object's thread (0x55c2cd4ab240).\n",
      "Cannot move to target thread (0x55c2cd43d060)\n",
      "\n",
      "QObject::moveToThread: Current thread (0x55c2cd43d060) is not the object's thread (0x55c2cd4ab240).\n",
      "Cannot move to target thread (0x55c2cd43d060)\n",
      "\n",
      "QObject::moveToThread: Current thread (0x55c2cd43d060) is not the object's thread (0x55c2cd4ab240).\n",
      "Cannot move to target thread (0x55c2cd43d060)\n",
      "\n",
      "QObject::moveToThread: Current thread (0x55c2cd43d060) is not the object's thread (0x55c2cd4ab240).\n",
      "Cannot move to target thread (0x55c2cd43d060)\n",
      "\n",
      "QObject::moveToThread: Current thread (0x55c2cd43d060) is not the object's thread (0x55c2cd4ab240).\n",
      "Cannot move to target thread (0x55c2cd43d060)\n",
      "\n",
      "QObject::moveToThread: Current thread (0x55c2cd43d060) is not the object's thread (0x55c2cd4ab240).\n",
      "Cannot move to target thread (0x55c2cd43d060)\n",
      "\n",
      "QObject::moveToThread: Current thread (0x55c2cd43d060) is not the object's thread (0x55c2cd4ab240).\n",
      "Cannot move to target thread (0x55c2cd43d060)\n",
      "\n",
      "QObject::moveToThread: Current thread (0x55c2cd43d060) is not the object's thread (0x55c2cd4ab240).\n",
      "Cannot move to target thread (0x55c2cd43d060)\n",
      "\n",
      "QObject::moveToThread: Current thread (0x55c2cd43d060) is not the object's thread (0x55c2cd4ab240).\n",
      "Cannot move to target thread (0x55c2cd43d060)\n",
      "\n",
      "QObject::moveToThread: Current thread (0x55c2cd43d060) is not the object's thread (0x55c2cd4ab240).\n",
      "Cannot move to target thread (0x55c2cd43d060)\n",
      "\n",
      "QObject::moveToThread: Current thread (0x55c2cd43d060) is not the object's thread (0x55c2cd4ab240).\n",
      "Cannot move to target thread (0x55c2cd43d060)\n",
      "\n",
      "QObject::moveToThread: Current thread (0x55c2cd43d060) is not the object's thread (0x55c2cd4ab240).\n",
      "Cannot move to target thread (0x55c2cd43d060)\n",
      "\n",
      "QObject::moveToThread: Current thread (0x55c2cd43d060) is not the object's thread (0x55c2cd4ab240).\n",
      "Cannot move to target thread (0x55c2cd43d060)\n",
      "\n",
      "QObject::moveToThread: Current thread (0x55c2cd43d060) is not the object's thread (0x55c2cd4ab240).\n",
      "Cannot move to target thread (0x55c2cd43d060)\n",
      "\n",
      "QObject::moveToThread: Current thread (0x55c2cd43d060) is not the object's thread (0x55c2cd4ab240).\n",
      "Cannot move to target thread (0x55c2cd43d060)\n",
      "\n",
      "QObject::moveToThread: Current thread (0x55c2cd43d060) is not the object's thread (0x55c2cd4ab240).\n",
      "Cannot move to target thread (0x55c2cd43d060)\n",
      "\n",
      "QObject::moveToThread: Current thread (0x55c2cd43d060) is not the object's thread (0x55c2cd4ab240).\n",
      "Cannot move to target thread (0x55c2cd43d060)\n",
      "\n",
      "QObject::moveToThread: Current thread (0x55c2cd43d060) is not the object's thread (0x55c2cd4ab240).\n",
      "Cannot move to target thread (0x55c2cd43d060)\n",
      "\n",
      "QObject::moveToThread: Current thread (0x55c2cd43d060) is not the object's thread (0x55c2cd4ab240).\n",
      "Cannot move to target thread (0x55c2cd43d060)\n",
      "\n",
      "QObject::moveToThread: Current thread (0x55c2cd43d060) is not the object's thread (0x55c2cd4ab240).\n",
      "Cannot move to target thread (0x55c2cd43d060)\n",
      "\n",
      "QObject::moveToThread: Current thread (0x55c2cd43d060) is not the object's thread (0x55c2cd4ab240).\n",
      "Cannot move to target thread (0x55c2cd43d060)\n",
      "\n",
      "QObject::moveToThread: Current thread (0x55c2cd43d060) is not the object's thread (0x55c2cd4ab240).\n",
      "Cannot move to target thread (0x55c2cd43d060)\n",
      "\n",
      "QObject::moveToThread: Current thread (0x55c2cd43d060) is not the object's thread (0x55c2cd4ab240).\n",
      "Cannot move to target thread (0x55c2cd43d060)\n",
      "\n",
      "QObject::moveToThread: Current thread (0x55c2cd43d060) is not the object's thread (0x55c2cd4ab240).\n",
      "Cannot move to target thread (0x55c2cd43d060)\n",
      "\n",
      "QObject::moveToThread: Current thread (0x55c2cd43d060) is not the object's thread (0x55c2cd4ab240).\n",
      "Cannot move to target thread (0x55c2cd43d060)\n",
      "\n",
      "QObject::moveToThread: Current thread (0x55c2cd43d060) is not the object's thread (0x55c2cd4ab240).\n",
      "Cannot move to target thread (0x55c2cd43d060)\n",
      "\n",
      "QObject::moveToThread: Current thread (0x55c2cd43d060) is not the object's thread (0x55c2cd4ab240).\n",
      "Cannot move to target thread (0x55c2cd43d060)\n",
      "\n",
      "QObject::moveToThread: Current thread (0x55c2cd43d060) is not the object's thread (0x55c2cd4ab240).\n",
      "Cannot move to target thread (0x55c2cd43d060)\n",
      "\n",
      "QObject::moveToThread: Current thread (0x55c2cd43d060) is not the object's thread (0x55c2cd4ab240).\n",
      "Cannot move to target thread (0x55c2cd43d060)\n",
      "\n",
      "QObject::moveToThread: Current thread (0x55c2cd43d060) is not the object's thread (0x55c2cd4ab240).\n",
      "Cannot move to target thread (0x55c2cd43d060)\n",
      "\n",
      "QObject::moveToThread: Current thread (0x55c2cd43d060) is not the object's thread (0x55c2cd4ab240).\n",
      "Cannot move to target thread (0x55c2cd43d060)\n",
      "\n",
      "QObject::moveToThread: Current thread (0x55c2cd43d060) is not the object's thread (0x55c2cd4ab240).\n",
      "Cannot move to target thread (0x55c2cd43d060)\n",
      "\n",
      "QObject::moveToThread: Current thread (0x55c2cd43d060) is not the object's thread (0x55c2cd4ab240).\n",
      "Cannot move to target thread (0x55c2cd43d060)\n",
      "\n",
      "QObject::moveToThread: Current thread (0x55c2cd43d060) is not the object's thread (0x55c2cd4ab240).\n",
      "Cannot move to target thread (0x55c2cd43d060)\n",
      "\n",
      "QObject::moveToThread: Current thread (0x55c2cd43d060) is not the object's thread (0x55c2cd4ab240).\n",
      "Cannot move to target thread (0x55c2cd43d060)\n",
      "\n",
      "QObject::moveToThread: Current thread (0x55c2cd43d060) is not the object's thread (0x55c2cd4ab240).\n",
      "Cannot move to target thread (0x55c2cd43d060)\n",
      "\n",
      "QObject::moveToThread: Current thread (0x55c2cd43d060) is not the object's thread (0x55c2cd4ab240).\n",
      "Cannot move to target thread (0x55c2cd43d060)\n",
      "\n",
      "QObject::moveToThread: Current thread (0x55c2cd43d060) is not the object's thread (0x55c2cd4ab240).\n",
      "Cannot move to target thread (0x55c2cd43d060)\n",
      "\n",
      "QObject::moveToThread: Current thread (0x55c2cd43d060) is not the object's thread (0x55c2cd4ab240).\n",
      "Cannot move to target thread (0x55c2cd43d060)\n",
      "\n",
      "QObject::moveToThread: Current thread (0x55c2cd43d060) is not the object's thread (0x55c2cd4ab240).\n",
      "Cannot move to target thread (0x55c2cd43d060)\n",
      "\n",
      "QObject::moveToThread: Current thread (0x55c2cd43d060) is not the object's thread (0x55c2cd4ab240).\n",
      "Cannot move to target thread (0x55c2cd43d060)\n",
      "\n",
      "QObject::moveToThread: Current thread (0x55c2cd43d060) is not the object's thread (0x55c2cd4ab240).\n",
      "Cannot move to target thread (0x55c2cd43d060)\n",
      "\n",
      "QObject::moveToThread: Current thread (0x55c2cd43d060) is not the object's thread (0x55c2cd4ab240).\n",
      "Cannot move to target thread (0x55c2cd43d060)\n",
      "\n",
      "QObject::moveToThread: Current thread (0x55c2cd43d060) is not the object's thread (0x55c2cd4ab240).\n",
      "Cannot move to target thread (0x55c2cd43d060)\n",
      "\n",
      "QObject::moveToThread: Current thread (0x55c2cd43d060) is not the object's thread (0x55c2cd4ab240).\n",
      "Cannot move to target thread (0x55c2cd43d060)\n",
      "\n",
      "QObject::moveToThread: Current thread (0x55c2cd43d060) is not the object's thread (0x55c2cd4ab240).\n",
      "Cannot move to target thread (0x55c2cd43d060)\n",
      "\n",
      "QObject::moveToThread: Current thread (0x55c2cd43d060) is not the object's thread (0x55c2cd4ab240).\n",
      "Cannot move to target thread (0x55c2cd43d060)\n",
      "\n",
      "QObject::moveToThread: Current thread (0x55c2cd43d060) is not the object's thread (0x55c2cd4ab240).\n",
      "Cannot move to target thread (0x55c2cd43d060)\n",
      "\n",
      "QObject::moveToThread: Current thread (0x55c2cd43d060) is not the object's thread (0x55c2cd4ab240).\n",
      "Cannot move to target thread (0x55c2cd43d060)\n",
      "\n",
      "QObject::moveToThread: Current thread (0x55c2cd43d060) is not the object's thread (0x55c2cd4ab240).\n",
      "Cannot move to target thread (0x55c2cd43d060)\n",
      "\n",
      "QObject::moveToThread: Current thread (0x55c2cd43d060) is not the object's thread (0x55c2cd4ab240).\n",
      "Cannot move to target thread (0x55c2cd43d060)\n",
      "\n",
      "QObject::moveToThread: Current thread (0x55c2cd43d060) is not the object's thread (0x55c2cd4ab240).\n",
      "Cannot move to target thread (0x55c2cd43d060)\n",
      "\n",
      "QObject::moveToThread: Current thread (0x55c2cd43d060) is not the object's thread (0x55c2cd4ab240).\n",
      "Cannot move to target thread (0x55c2cd43d060)\n",
      "\n",
      "QObject::moveToThread: Current thread (0x55c2cd43d060) is not the object's thread (0x55c2cd4ab240).\n",
      "Cannot move to target thread (0x55c2cd43d060)\n",
      "\n",
      "QObject::moveToThread: Current thread (0x55c2cd43d060) is not the object's thread (0x55c2cd4ab240).\n",
      "Cannot move to target thread (0x55c2cd43d060)\n",
      "\n",
      "QObject::moveToThread: Current thread (0x55c2cd43d060) is not the object's thread (0x55c2cd4ab240).\n",
      "Cannot move to target thread (0x55c2cd43d060)\n",
      "\n",
      "QObject::moveToThread: Current thread (0x55c2cd43d060) is not the object's thread (0x55c2cd4ab240).\n",
      "Cannot move to target thread (0x55c2cd43d060)\n",
      "\n",
      "QObject::moveToThread: Current thread (0x55c2cd43d060) is not the object's thread (0x55c2cd4ab240).\n",
      "Cannot move to target thread (0x55c2cd43d060)\n",
      "\n",
      "QObject::moveToThread: Current thread (0x55c2cd43d060) is not the object's thread (0x55c2cd4ab240).\n",
      "Cannot move to target thread (0x55c2cd43d060)\n",
      "\n",
      "QObject::moveToThread: Current thread (0x55c2cd43d060) is not the object's thread (0x55c2cd4ab240).\n",
      "Cannot move to target thread (0x55c2cd43d060)\n",
      "\n",
      "QObject::moveToThread: Current thread (0x55c2cd43d060) is not the object's thread (0x55c2cd4ab240).\n",
      "Cannot move to target thread (0x55c2cd43d060)\n",
      "\n",
      "QObject::moveToThread: Current thread (0x55c2cd43d060) is not the object's thread (0x55c2cd4ab240).\n",
      "Cannot move to target thread (0x55c2cd43d060)\n",
      "\n",
      "Collecting image 1\n",
      "Collecting image 2\n",
      "Collecting image 3\n",
      "Collecting image 4\n"
     ]
    }
   ],
   "source": [
    "captureImage()"
   ]
  },
  {
   "source": [
    "# 5. Image Labelling"
   ],
   "cell_type": "markdown",
   "metadata": {}
  },
  {
   "cell_type": "code",
   "execution_count": 9,
   "metadata": {},
   "outputs": [],
   "source": [
    "LABELING_PATH = os.path.join('Images','Labeling')"
   ]
  },
  {
   "cell_type": "code",
   "execution_count": 11,
   "metadata": {},
   "outputs": [
    {
     "output_type": "stream",
     "name": "stdout",
     "text": [
      "Clonage dans '{LABELIMG_PATH}'...\n",
      "remote: Enumerating objects: 1841, done.\u001b[K\n",
      "remote: Counting objects: 100% (82/82), done.\u001b[K\n",
      "remote: Compressing objects: 100% (60/60), done.\u001b[K\n",
      "^C\n"
     ]
    }
   ],
   "source": [
    "if not os.path.exists(LABELING_PATH):\n",
    "    !mkdir {LABELING_PATH}\n",
    "    !git clone https://github.com/tzutalin/labelImg {LABELIMG_PATH}"
   ]
  },
  {
   "cell_type": "code",
   "execution_count": 12,
   "metadata": {},
   "outputs": [
    {
     "output_type": "stream",
     "name": "stdout",
     "text": [
      "pyrcc5 -o libs/resources.py resources.qrc\n"
     ]
    }
   ],
   "source": [
    "if os.name == 'posix':\n",
    "    !cd {LABELING_PATH} && make qt5py3\n",
    "if os.name == 'nt':\n",
    "    !cd {LABELING_PATH} && pyrcc5 -o libs/ressources.py resources.qrc"
   ]
  },
  {
   "source": [
    "- sudo apt-get install pyqt5-dev-tools\n",
    "- sudo pip install -r requirements/requirements-linux-python3.txt\n",
    "- make qt5py3\n",
    "- python3 labelImg.py\n",
    "- python3 labelImg.py [IMAGE_PATH] [PRE-DEFINED CLASS FILE]"
   ],
   "cell_type": "markdown",
   "metadata": {}
  },
  {
   "cell_type": "code",
   "execution_count": 26,
   "metadata": {},
   "outputs": [
    {
     "output_type": "stream",
     "name": "stdout",
     "text": [
      "labelImg.py:965: DeprecationWarning: an integer is required (got type float).  Implicit conversion to integers using __int__ is deprecated, and may be removed in a future version of Python.\n",
      "  bar.setValue(bar.value() + bar.singleStep() * units)\n",
      "Cancel creation.\n",
      "Cancel creation.\n",
      "Cancel creation.\n",
      "Cancel creation.\n",
      "Image:/home/uruk380/UTC_UBUNTU/My_Own_Project/Tensorflow_Object_Detection/Nicholas_Renotte_Course/Images/CollectedImages/thumbsup/thumbsup.00fccac6-e8a0-11eb-a177-5f170069e756.jpg -> Annotation:/run/user/1000/doc/f9940784/1.xml\n",
      "Cancel creation.\n",
      "Cancel creation.\n",
      "Cancel creation.\n",
      "Image:/home/uruk380/UTC_UBUNTU/My_Own_Project/Tensorflow_Object_Detection/Nicholas_Renotte_Course/Images/CollectedImages/thumbsup/thumbsup.2dc650d4-e8a2-11eb-a177-5f170069e756.jpg -> Annotation:/run/user/1000/doc/7f3ba1ab/2.xml\n",
      "Image:/home/uruk380/UTC_UBUNTU/My_Own_Project/Tensorflow_Object_Detection/Nicholas_Renotte_Course/Images/CollectedImages/thumbsup/thumbsup.2efb4414-e8a2-11eb-a177-5f170069e756.jpg -> Annotation:/run/user/1000/doc/422fd95f/3.xml\n",
      "Image:/home/uruk380/UTC_UBUNTU/My_Own_Project/Tensorflow_Object_Detection/Nicholas_Renotte_Course/Images/CollectedImages/thumbsup/thumbsup.3ac9b436-e89f-11eb-8712-bd618ab3d1ce.jpg -> Annotation:/run/user/1000/doc/fd199d6c/4.xml\n",
      "Cancel creation.\n",
      "Image:/home/uruk380/UTC_UBUNTU/My_Own_Project/Tensorflow_Object_Detection/Nicholas_Renotte_Course/Images/CollectedImages/thumbsup/thumbsup.3bfcba2e-e89f-11eb-8712-bd618ab3d1ce.jpg -> Annotation:/run/user/1000/doc/831ac53f/5.xml\n",
      "Image:/home/uruk380/UTC_UBUNTU/My_Own_Project/Tensorflow_Object_Detection/Nicholas_Renotte_Course/Images/CollectedImages/thumbsup/thumbsup.3d2fd6f6-e89f-11eb-8712-bd618ab3d1ce.jpg -> Annotation:/run/user/1000/doc/ca76beb4/6.xml\n",
      "Image:/home/uruk380/UTC_UBUNTU/My_Own_Project/Tensorflow_Object_Detection/Nicholas_Renotte_Course/Images/CollectedImages/thumbsup/thumbsup.3e633356-e89f-11eb-8712-bd618ab3d1ce.jpg -> Annotation:/run/user/1000/doc/3f0abd97/7.xml\n",
      "Cancel creation.\n"
     ]
    }
   ],
   "source": [
    "!cd {LABELING_PATH} && python labelImg.py /home/uruk380/UTC_UBUNTU/My_Own_Project/Tensorflow_Object_Detection/Nicholas_Renotte_Course/Images/CollectedImages/thumbsup\n"
   ]
  },
  {
   "source": [
    "Not to forget:\n",
    "- run in a terminal python labelImg.py /home/uruk380/UTC_UBUNTU/My_Own_Project/Tensorflow_Object_Detection/Nicholas_Renotte_Course/Images/CollectedImages/thumbsup \n",
    "- press w to capture our sign\n"
   ],
   "cell_type": "markdown",
   "metadata": {}
  },
  {
   "source": [
    "# 6. Move them into a Training and testing Partition"
   ],
   "cell_type": "markdown",
   "metadata": {}
  },
  {
   "source": [
    "# 7. Training and Evaluation"
   ],
   "cell_type": "markdown",
   "metadata": {}
  },
  {
   "source": [
    "Vocabulary:\n",
    "-TP : True Positive\n",
    "-FP : False Positif\n",
    "-TN : True Negative\n",
    "-FN : False Negative\n",
    "\n",
    "Evaluation :\n",
    "\n",
    "- Precision: TP / (TP + FP)\n",
    "What proportion of my detections were correct ?\n",
    "\n",
    "- Recall : TP / (TP + FN)\n",
    "What proportion of the actual objects did I capture ?\n",
    "\n",
    "- Loss : A method of evaluating how well the model is performing against the data provided"
   ],
   "cell_type": "markdown",
   "metadata": {}
  },
  {
   "source": [
    "### Tensorflow Model Zoo\n"
   ],
   "cell_type": "markdown",
   "metadata": {}
  },
  {
   "source": [
    "Model Metrics\n",
    "- These metrics are bases on a popular object detection dataset called COCO\n",
    "- They're indicative of how the model will perform"
   ],
   "cell_type": "markdown",
   "metadata": {}
  },
  {
   "source": [
    "We will use the SSD MobileNet V2 FPNLite 320x320\n",
    "- Speed = 22 (very fast)\n",
    "- COCO mAP = 22.2 (but average precision)\n",
    "\n",
    "we have to do a tardeoff between execution speed and precision\n",
    "\n",
    "This model is going to compress our image from 640x480 (img webcam quality) to 320x320.\n",
    "To do this the model use a technique called pre-processing to compress.\n",
    "And then in post-processing, it's going to take the dectections that it found and convert it back to your original resolution.\n",
    "The model actualualy do that for us and this one of the advantages of the tensorflow object dectection model. No need to do pre-processing and post-processing.\n",
    "\n",
    "The model uses a bunch of techniques called image augmentation\n",
    "- it might darken our image\n",
    "- it might shift it / flip it\n"
   ],
   "cell_type": "markdown",
   "metadata": {}
  },
  {
   "cell_type": "code",
   "execution_count": null,
   "metadata": {},
   "outputs": [],
   "source": []
  }
 ]
}