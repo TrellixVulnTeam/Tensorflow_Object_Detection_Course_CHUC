{
 "metadata": {
  "language_info": {
   "codemirror_mode": {
    "name": "ipython",
    "version": 3
   },
   "file_extension": ".py",
   "mimetype": "text/x-python",
   "name": "python",
   "nbconvert_exporter": "python",
   "pygments_lexer": "ipython3",
   "version": "3.8.10"
  },
  "orig_nbformat": 4,
  "kernelspec": {
   "name": "python3",
   "display_name": "Python 3.8.10 64-bit ('Tensorflow_Object_Detection_env': conda)"
  },
  "interpreter": {
   "hash": "7b28dd33a1554efa43042236e43ffa0477e6db1bbb866d3eb2dd7406a64bc7c4"
  }
 },
 "nbformat": 4,
 "nbformat_minor": 2,
 "cells": [
  {
   "source": [
    "# 0. Setup Paths"
   ],
   "cell_type": "markdown",
   "metadata": {}
  },
  {
   "cell_type": "code",
   "execution_count": 50,
   "metadata": {},
   "outputs": [],
   "source": [
    "CUSTOM_MODEL_NAME = 'my_ssd_mobnet_tuned'\n",
    "# we choice this pretrained model because it's pretty fast\n",
    "# but we could have choice a pretrained model which is slower but which gives better results.\n",
    "PRETRAINED_MODEL_NAME = 'ssd_mobilenet_v2_fpnlite_320x320_coco17_tpu-8'\n",
    "PRETRAINED_MODEL_URL = 'http://download.tensorflow.org/models/object_detection/tf2/20200711/ssd_mobilenet_v2_fpnlite_320x320_coco17_tpu-8.tar.gz'\n",
    "TF_RECORD_SCRIPT_NAME = 'generate_tfrecord.py'\n",
    "LABEL_MAP_NAME = 'label_map.pbtx'"
   ]
  },
  {
   "cell_type": "code",
   "execution_count": 51,
   "metadata": {},
   "outputs": [],
   "source": [
    "paths = {\n",
    "    'WORKSPACE_PATH': os.path.join('Nicholas_Renotte_Course', 'Workspace'),\n",
    "    'SCRIPTS_PATH': os.path.join('Nicholas_Renotte_Course','Scripts'),\n",
    "    'APIMODEL_PATH': os.path.join('Nicholas_Renotte_Course','Models'),\n",
    "    'ANNOTATION_PATH': os.path.join('Nicholas_Renotte_Course', 'Workspace','Annotations'),\n",
    "    'IMAGE_PATH': os.path.join('Nicholas_Renotte_Course', 'Workspace','Images'),\n",
    "    'MODEL_PATH': os.path.join('Nicholas_Renotte_Course', 'Workspace','Models'),\n",
    "    'PRETRAINED_MODEL_PATH': os.path.join('Nicholas_Renotte_Course', 'Workspace','Pre-trained-models'),\n",
    "    'CHECKPOINT_PATH': os.path.join('Nicholas_Renotte_Course', 'Workspace','Models',CUSTOM_MODEL_NAME), \n",
    "    'OUTPUT_PATH': os.path.join('Nicholas_Renotte_Course', 'Workspace','Models',CUSTOM_MODEL_NAME, 'export'), \n",
    "    'TFJS_PATH':os.path.join('Nicholas_Renotte_Course', 'Workspace','Models',CUSTOM_MODEL_NAME, 'tfjsexport'), \n",
    "    'TFLITE_PATH':os.path.join('Nicholas_Renotte_Course', 'Workspace','Models',CUSTOM_MODEL_NAME, 'tfliteexport'), \n",
    "    'PROTOC_PATH':os.path.join('Nicholas_Renotte_Course','protoc')\n",
    " }\n"
   ]
  },
  {
   "cell_type": "code",
   "execution_count": 52,
   "metadata": {},
   "outputs": [],
   "source": [
    "files = {\n",
    "    'PIPELINE_CONFIG':os.path.join('Nicholas_Renotte_Course', 'Workspace','Models', CUSTOM_MODEL_NAME, 'pipeline.config'),\n",
    "    'TF_RECORD_SCRIPT': os.path.join(paths['SCRIPTS_PATH'], TF_RECORD_SCRIPT_NAME), \n",
    "    'LABELMAP': os.path.join(paths['ANNOTATION_PATH'], LABEL_MAP_NAME)\n",
    "}"
   ]
  },
  {
   "cell_type": "code",
   "execution_count": 22,
   "metadata": {},
   "outputs": [],
   "source": [
    "for path in paths.values():\n",
    "    if not os.path.exists(path):\n",
    "        if os.name == 'posix':\n",
    "            !mkdir -p {path}\n",
    "        if os.name == 'nt':\n",
    "            !mkdir {path}"
   ]
  },
  {
   "cell_type": "code",
   "execution_count": 23,
   "metadata": {},
   "outputs": [
    {
     "output_type": "stream",
     "name": "stdout",
     "text": [
      "/home/uruk380/UTC_UBUNTU/My_Own_Project\n"
     ]
    }
   ],
   "source": [
    "cd .."
   ]
  },
  {
   "source": [
    "# 1. DOWNload TF Models Pretrained Models from Tensorflow Model Zoo and Install TFOD"
   ],
   "cell_type": "markdown",
   "metadata": {}
  },
  {
   "cell_type": "code",
   "execution_count": 11,
   "metadata": {},
   "outputs": [],
   "source": [
    "# https://www.tensorflow.org/install/source_windows"
   ]
  },
  {
   "cell_type": "code",
   "execution_count": 12,
   "metadata": {},
   "outputs": [],
   "source": [
    "if os.name=='nt':\n",
    "    !pip install wget\n",
    "    import wget"
   ]
  },
  {
   "source": [
    "https://github.com/tensorflow/models\n",
    "https://github.com/tensorflow/models/tree/master/research/object_detection\n",
    "\n",
    "in our project we only need Tensorflow object detection API"
   ],
   "cell_type": "markdown",
   "metadata": {}
  },
  {
   "cell_type": "code",
   "execution_count": null,
   "metadata": {},
   "outputs": [],
   "source": [
    "if not os.path.exists(os.path.join(paths['APIMODEL_PATH'], 'research', 'object_Detection')):\n",
    "    !git clone https://github.com/tensorflow/models {paths['APIMODEL_PATH']}"
   ]
  },
  {
   "cell_type": "code",
   "execution_count": 33,
   "metadata": {},
   "outputs": [
    {
     "output_type": "stream",
     "name": "stdout",
     "text": [
      "Tensorflow_Object_Detection_env\n"
     ]
    }
   ],
   "source": [
    "!echo $CONDA_DEFAULT_ENV"
   ]
  },
  {
   "cell_type": "code",
   "execution_count": 34,
   "metadata": {},
   "outputs": [
    {
     "output_type": "stream",
     "name": "stdout",
     "text": [
      "Tensorflow_Object_Detection_env\n"
     ]
    }
   ],
   "source": [
    "!echo $CONDA_DEFAULT_ENV"
   ]
  },
  {
   "cell_type": "code",
   "execution_count": 12,
   "metadata": {},
   "outputs": [
    {
     "output_type": "stream",
     "name": "stdout",
     "text": [
      "[sudo] Mot de passe de uruk380 : \n",
      "/bin/bash: protoc : commande introuvable\n"
     ]
    }
   ],
   "source": [
    "# Install Tensorflow Object Detection \n",
    "if os.name=='posix':  \n",
    "    !sudo apt-get install protobuf-compiler\n",
    "    !cd Nicholas_Renotte_Course/Models/research && protoc object_detection/protos/*.proto --python_out=. && cp object_detection/packages/tf2/setup.py . && python -m pip install . \n",
    "    \n",
    "if os.name=='nt':\n",
    "    url=\"https://github.com/protocolbuffers/protobuf/releases/download/v3.15.6/protoc-3.15.6-win64.zip\"\n",
    "    wget.download(url)\n",
    "    !move protoc-3.15.6-win64.zip {paths['PROTOC_PATH']}\n",
    "    !cd {paths['PROTOC_PATH']} && tar -xf protoc-3.15.6-win64.zip\n",
    "    os.environ['PATH'] += os.pathsep + os.path.abspath(os.path.join(paths['PROTOC_PATH'], 'bin'))   \n",
    "    !cd Tensorflow/models/research && protoc object_detection/protos/*.proto --python_out=. && copy object_detection\\\\packages\\\\tf2\\\\setup.py setup.py && python setup.py build && python setup.py install\n",
    "    !cd Tensorflow/models/research/slim && pip install -e .\n",
    "\n"
   ]
  },
  {
   "cell_type": "code",
   "execution_count": 115,
   "metadata": {
    "tags": [
     "outputPrepend"
    ]
   },
   "outputs": [
    {
     "output_type": "stream",
     "name": "stdout",
     "text": [
      "ficientnet with params ModelConfig(width_coefficient=1.2, depth_coefficient=1.4, resolution=300, dropout_rate=0.3, blocks=(BlockConfig(input_filters=32, output_filters=16, kernel_size=3, num_repeat=1, expand_ratio=1, strides=(1, 1), se_ratio=0.25, id_skip=True, fused_conv=False, conv_type='depthwise'), BlockConfig(input_filters=16, output_filters=24, kernel_size=3, num_repeat=2, expand_ratio=6, strides=(2, 2), se_ratio=0.25, id_skip=True, fused_conv=False, conv_type='depthwise'), BlockConfig(input_filters=24, output_filters=40, kernel_size=5, num_repeat=2, expand_ratio=6, strides=(2, 2), se_ratio=0.25, id_skip=True, fused_conv=False, conv_type='depthwise'), BlockConfig(input_filters=40, output_filters=80, kernel_size=3, num_repeat=3, expand_ratio=6, strides=(2, 2), se_ratio=0.25, id_skip=True, fused_conv=False, conv_type='depthwise'), BlockConfig(input_filters=80, output_filters=112, kernel_size=5, num_repeat=3, expand_ratio=6, strides=(1, 1), se_ratio=0.25, id_skip=True, fused_conv=False, conv_type='depthwise'), BlockConfig(input_filters=112, output_filters=192, kernel_size=5, num_repeat=4, expand_ratio=6, strides=(2, 2), se_ratio=0.25, id_skip=True, fused_conv=False, conv_type='depthwise'), BlockConfig(input_filters=192, output_filters=320, kernel_size=3, num_repeat=1, expand_ratio=6, strides=(1, 1), se_ratio=0.25, id_skip=True, fused_conv=False, conv_type='depthwise')), stem_base_filters=32, top_base_filters=1280, activation='simple_swish', batch_norm='default', bn_momentum=0.99, bn_epsilon=0.001, weight_decay=5e-06, drop_connect_rate=0.2, depth_divisor=8, min_depth=None, use_se=True, input_channels=3, num_classes=1000, model_name='efficientnet', rescale_input=False, data_format='channels_last', dtype='float32')\n",
      "I0720 17:05:19.466717 140451682140992 ssd_efficientnet_bifpn_feature_extractor.py:142] EfficientDet EfficientNet backbone version: efficientnet-b4\n",
      "I0720 17:05:19.466822 140451682140992 ssd_efficientnet_bifpn_feature_extractor.py:144] EfficientDet BiFPN num filters: 224\n",
      "I0720 17:05:19.466862 140451682140992 ssd_efficientnet_bifpn_feature_extractor.py:145] EfficientDet BiFPN num iterations: 7\n",
      "I0720 17:05:19.467896 140451682140992 efficientnet_model.py:147] round_filter input=32 output=48\n",
      "I0720 17:05:19.476842 140451682140992 efficientnet_model.py:147] round_filter input=32 output=48\n",
      "I0720 17:05:19.476950 140451682140992 efficientnet_model.py:147] round_filter input=16 output=24\n",
      "I0720 17:05:19.561751 140451682140992 efficientnet_model.py:147] round_filter input=16 output=24\n",
      "I0720 17:05:19.561894 140451682140992 efficientnet_model.py:147] round_filter input=24 output=32\n",
      "I0720 17:05:19.772120 140451682140992 efficientnet_model.py:147] round_filter input=24 output=32\n",
      "I0720 17:05:19.772247 140451682140992 efficientnet_model.py:147] round_filter input=40 output=56\n",
      "I0720 17:05:20.002409 140451682140992 efficientnet_model.py:147] round_filter input=40 output=56\n",
      "I0720 17:05:20.002512 140451682140992 efficientnet_model.py:147] round_filter input=80 output=112\n",
      "I0720 17:05:20.377822 140451682140992 efficientnet_model.py:147] round_filter input=80 output=112\n",
      "I0720 17:05:20.377954 140451682140992 efficientnet_model.py:147] round_filter input=112 output=160\n",
      "I0720 17:05:20.752437 140451682140992 efficientnet_model.py:147] round_filter input=112 output=160\n",
      "I0720 17:05:20.752536 140451682140992 efficientnet_model.py:147] round_filter input=192 output=272\n",
      "I0720 17:05:21.247543 140451682140992 efficientnet_model.py:147] round_filter input=192 output=272\n",
      "I0720 17:05:21.247654 140451682140992 efficientnet_model.py:147] round_filter input=320 output=448\n",
      "I0720 17:05:21.379253 140451682140992 efficientnet_model.py:147] round_filter input=1280 output=1792\n",
      "I0720 17:05:21.407819 140451682140992 efficientnet_model.py:458] Building model efficientnet with params ModelConfig(width_coefficient=1.4, depth_coefficient=1.8, resolution=380, dropout_rate=0.4, blocks=(BlockConfig(input_filters=32, output_filters=16, kernel_size=3, num_repeat=1, expand_ratio=1, strides=(1, 1), se_ratio=0.25, id_skip=True, fused_conv=False, conv_type='depthwise'), BlockConfig(input_filters=16, output_filters=24, kernel_size=3, num_repeat=2, expand_ratio=6, strides=(2, 2), se_ratio=0.25, id_skip=True, fused_conv=False, conv_type='depthwise'), BlockConfig(input_filters=24, output_filters=40, kernel_size=5, num_repeat=2, expand_ratio=6, strides=(2, 2), se_ratio=0.25, id_skip=True, fused_conv=False, conv_type='depthwise'), BlockConfig(input_filters=40, output_filters=80, kernel_size=3, num_repeat=3, expand_ratio=6, strides=(2, 2), se_ratio=0.25, id_skip=True, fused_conv=False, conv_type='depthwise'), BlockConfig(input_filters=80, output_filters=112, kernel_size=5, num_repeat=3, expand_ratio=6, strides=(1, 1), se_ratio=0.25, id_skip=True, fused_conv=False, conv_type='depthwise'), BlockConfig(input_filters=112, output_filters=192, kernel_size=5, num_repeat=4, expand_ratio=6, strides=(2, 2), se_ratio=0.25, id_skip=True, fused_conv=False, conv_type='depthwise'), BlockConfig(input_filters=192, output_filters=320, kernel_size=3, num_repeat=1, expand_ratio=6, strides=(1, 1), se_ratio=0.25, id_skip=True, fused_conv=False, conv_type='depthwise')), stem_base_filters=32, top_base_filters=1280, activation='simple_swish', batch_norm='default', bn_momentum=0.99, bn_epsilon=0.001, weight_decay=5e-06, drop_connect_rate=0.2, depth_divisor=8, min_depth=None, use_se=True, input_channels=3, num_classes=1000, model_name='efficientnet', rescale_input=False, data_format='channels_last', dtype='float32')\n",
      "I0720 17:05:21.589197 140451682140992 ssd_efficientnet_bifpn_feature_extractor.py:142] EfficientDet EfficientNet backbone version: efficientnet-b5\n",
      "I0720 17:05:21.589303 140451682140992 ssd_efficientnet_bifpn_feature_extractor.py:144] EfficientDet BiFPN num filters: 288\n",
      "I0720 17:05:21.589344 140451682140992 ssd_efficientnet_bifpn_feature_extractor.py:145] EfficientDet BiFPN num iterations: 7\n",
      "I0720 17:05:21.591074 140451682140992 efficientnet_model.py:147] round_filter input=32 output=48\n",
      "I0720 17:05:21.603290 140451682140992 efficientnet_model.py:147] round_filter input=32 output=48\n",
      "I0720 17:05:21.603413 140451682140992 efficientnet_model.py:147] round_filter input=16 output=24\n",
      "I0720 17:05:21.756093 140451682140992 efficientnet_model.py:147] round_filter input=16 output=24\n",
      "I0720 17:05:21.756202 140451682140992 efficientnet_model.py:147] round_filter input=24 output=40\n",
      "I0720 17:05:22.054925 140451682140992 efficientnet_model.py:147] round_filter input=24 output=40\n",
      "I0720 17:05:22.055059 140451682140992 efficientnet_model.py:147] round_filter input=40 output=64\n",
      "I0720 17:05:22.407453 140451682140992 efficientnet_model.py:147] round_filter input=40 output=64\n",
      "I0720 17:05:22.407581 140451682140992 efficientnet_model.py:147] round_filter input=80 output=128\n",
      "I0720 17:05:22.807317 140451682140992 efficientnet_model.py:147] round_filter input=80 output=128\n",
      "I0720 17:05:22.807483 140451682140992 efficientnet_model.py:147] round_filter input=112 output=176\n",
      "I0720 17:05:23.247936 140451682140992 efficientnet_model.py:147] round_filter input=112 output=176\n",
      "I0720 17:05:23.248066 140451682140992 efficientnet_model.py:147] round_filter input=192 output=304\n",
      "I0720 17:05:23.798149 140451682140992 efficientnet_model.py:147] round_filter input=192 output=304\n",
      "I0720 17:05:23.798292 140451682140992 efficientnet_model.py:147] round_filter input=320 output=512\n",
      "I0720 17:05:24.021143 140451682140992 efficientnet_model.py:147] round_filter input=1280 output=2048\n",
      "I0720 17:05:24.054458 140451682140992 efficientnet_model.py:458] Building model efficientnet with params ModelConfig(width_coefficient=1.6, depth_coefficient=2.2, resolution=456, dropout_rate=0.4, blocks=(BlockConfig(input_filters=32, output_filters=16, kernel_size=3, num_repeat=1, expand_ratio=1, strides=(1, 1), se_ratio=0.25, id_skip=True, fused_conv=False, conv_type='depthwise'), BlockConfig(input_filters=16, output_filters=24, kernel_size=3, num_repeat=2, expand_ratio=6, strides=(2, 2), se_ratio=0.25, id_skip=True, fused_conv=False, conv_type='depthwise'), BlockConfig(input_filters=24, output_filters=40, kernel_size=5, num_repeat=2, expand_ratio=6, strides=(2, 2), se_ratio=0.25, id_skip=True, fused_conv=False, conv_type='depthwise'), BlockConfig(input_filters=40, output_filters=80, kernel_size=3, num_repeat=3, expand_ratio=6, strides=(2, 2), se_ratio=0.25, id_skip=True, fused_conv=False, conv_type='depthwise'), BlockConfig(input_filters=80, output_filters=112, kernel_size=5, num_repeat=3, expand_ratio=6, strides=(1, 1), se_ratio=0.25, id_skip=True, fused_conv=False, conv_type='depthwise'), BlockConfig(input_filters=112, output_filters=192, kernel_size=5, num_repeat=4, expand_ratio=6, strides=(2, 2), se_ratio=0.25, id_skip=True, fused_conv=False, conv_type='depthwise'), BlockConfig(input_filters=192, output_filters=320, kernel_size=3, num_repeat=1, expand_ratio=6, strides=(1, 1), se_ratio=0.25, id_skip=True, fused_conv=False, conv_type='depthwise')), stem_base_filters=32, top_base_filters=1280, activation='simple_swish', batch_norm='default', bn_momentum=0.99, bn_epsilon=0.001, weight_decay=5e-06, drop_connect_rate=0.2, depth_divisor=8, min_depth=None, use_se=True, input_channels=3, num_classes=1000, model_name='efficientnet', rescale_input=False, data_format='channels_last', dtype='float32')\n",
      "I0720 17:05:24.128380 140451682140992 ssd_efficientnet_bifpn_feature_extractor.py:142] EfficientDet EfficientNet backbone version: efficientnet-b6\n",
      "I0720 17:05:24.128492 140451682140992 ssd_efficientnet_bifpn_feature_extractor.py:144] EfficientDet BiFPN num filters: 384\n",
      "I0720 17:05:24.128538 140451682140992 ssd_efficientnet_bifpn_feature_extractor.py:145] EfficientDet BiFPN num iterations: 8\n",
      "I0720 17:05:24.129762 140451682140992 efficientnet_model.py:147] round_filter input=32 output=56\n",
      "I0720 17:05:24.140095 140451682140992 efficientnet_model.py:147] round_filter input=32 output=56\n",
      "I0720 17:05:24.140204 140451682140992 efficientnet_model.py:147] round_filter input=16 output=32\n",
      "I0720 17:05:24.269084 140451682140992 efficientnet_model.py:147] round_filter input=16 output=32\n",
      "I0720 17:05:24.269198 140451682140992 efficientnet_model.py:147] round_filter input=24 output=40\n",
      "I0720 17:05:24.583879 140451682140992 efficientnet_model.py:147] round_filter input=24 output=40\n",
      "I0720 17:05:24.583998 140451682140992 efficientnet_model.py:147] round_filter input=40 output=72\n",
      "I0720 17:05:24.952858 140451682140992 efficientnet_model.py:147] round_filter input=40 output=72\n",
      "I0720 17:05:24.952964 140451682140992 efficientnet_model.py:147] round_filter input=80 output=144\n",
      "I0720 17:05:25.620729 140451682140992 efficientnet_model.py:147] round_filter input=80 output=144\n",
      "I0720 17:05:25.620896 140451682140992 efficientnet_model.py:147] round_filter input=112 output=200\n",
      "I0720 17:05:26.125778 140451682140992 efficientnet_model.py:147] round_filter input=112 output=200\n",
      "I0720 17:05:26.125880 140451682140992 efficientnet_model.py:147] round_filter input=192 output=344\n",
      "I0720 17:05:26.827759 140451682140992 efficientnet_model.py:147] round_filter input=192 output=344\n",
      "I0720 17:05:26.827897 140451682140992 efficientnet_model.py:147] round_filter input=320 output=576\n",
      "I0720 17:05:27.058976 140451682140992 efficientnet_model.py:147] round_filter input=1280 output=2304\n",
      "I0720 17:05:27.091842 140451682140992 efficientnet_model.py:458] Building model efficientnet with params ModelConfig(width_coefficient=1.8, depth_coefficient=2.6, resolution=528, dropout_rate=0.5, blocks=(BlockConfig(input_filters=32, output_filters=16, kernel_size=3, num_repeat=1, expand_ratio=1, strides=(1, 1), se_ratio=0.25, id_skip=True, fused_conv=False, conv_type='depthwise'), BlockConfig(input_filters=16, output_filters=24, kernel_size=3, num_repeat=2, expand_ratio=6, strides=(2, 2), se_ratio=0.25, id_skip=True, fused_conv=False, conv_type='depthwise'), BlockConfig(input_filters=24, output_filters=40, kernel_size=5, num_repeat=2, expand_ratio=6, strides=(2, 2), se_ratio=0.25, id_skip=True, fused_conv=False, conv_type='depthwise'), BlockConfig(input_filters=40, output_filters=80, kernel_size=3, num_repeat=3, expand_ratio=6, strides=(2, 2), se_ratio=0.25, id_skip=True, fused_conv=False, conv_type='depthwise'), BlockConfig(input_filters=80, output_filters=112, kernel_size=5, num_repeat=3, expand_ratio=6, strides=(1, 1), se_ratio=0.25, id_skip=True, fused_conv=False, conv_type='depthwise'), BlockConfig(input_filters=112, output_filters=192, kernel_size=5, num_repeat=4, expand_ratio=6, strides=(2, 2), se_ratio=0.25, id_skip=True, fused_conv=False, conv_type='depthwise'), BlockConfig(input_filters=192, output_filters=320, kernel_size=3, num_repeat=1, expand_ratio=6, strides=(1, 1), se_ratio=0.25, id_skip=True, fused_conv=False, conv_type='depthwise')), stem_base_filters=32, top_base_filters=1280, activation='simple_swish', batch_norm='default', bn_momentum=0.99, bn_epsilon=0.001, weight_decay=5e-06, drop_connect_rate=0.2, depth_divisor=8, min_depth=None, use_se=True, input_channels=3, num_classes=1000, model_name='efficientnet', rescale_input=False, data_format='channels_last', dtype='float32')\n",
      "I0720 17:05:27.179548 140451682140992 ssd_efficientnet_bifpn_feature_extractor.py:142] EfficientDet EfficientNet backbone version: efficientnet-b7\n",
      "I0720 17:05:27.179657 140451682140992 ssd_efficientnet_bifpn_feature_extractor.py:144] EfficientDet BiFPN num filters: 384\n",
      "I0720 17:05:27.179699 140451682140992 ssd_efficientnet_bifpn_feature_extractor.py:145] EfficientDet BiFPN num iterations: 8\n",
      "I0720 17:05:27.181008 140451682140992 efficientnet_model.py:147] round_filter input=32 output=64\n",
      "I0720 17:05:27.192529 140451682140992 efficientnet_model.py:147] round_filter input=32 output=64\n",
      "I0720 17:05:27.192664 140451682140992 efficientnet_model.py:147] round_filter input=16 output=32\n",
      "I0720 17:05:27.398752 140451682140992 efficientnet_model.py:147] round_filter input=16 output=32\n",
      "I0720 17:05:27.398917 140451682140992 efficientnet_model.py:147] round_filter input=24 output=48\n",
      "I0720 17:05:27.807231 140451682140992 efficientnet_model.py:147] round_filter input=24 output=48\n",
      "I0720 17:05:27.807341 140451682140992 efficientnet_model.py:147] round_filter input=40 output=80\n",
      "I0720 17:05:28.176805 140451682140992 efficientnet_model.py:147] round_filter input=40 output=80\n",
      "I0720 17:05:28.176925 140451682140992 efficientnet_model.py:147] round_filter input=80 output=160\n",
      "I0720 17:05:28.871170 140451682140992 efficientnet_model.py:147] round_filter input=80 output=160\n",
      "I0720 17:05:28.871281 140451682140992 efficientnet_model.py:147] round_filter input=112 output=224\n",
      "I0720 17:05:29.454530 140451682140992 efficientnet_model.py:147] round_filter input=112 output=224\n",
      "I0720 17:05:29.454732 140451682140992 efficientnet_model.py:147] round_filter input=192 output=384\n",
      "I0720 17:05:30.299310 140451682140992 efficientnet_model.py:147] round_filter input=192 output=384\n",
      "I0720 17:05:30.299429 140451682140992 efficientnet_model.py:147] round_filter input=320 output=640\n",
      "I0720 17:05:30.628409 140451682140992 efficientnet_model.py:147] round_filter input=1280 output=2560\n",
      "I0720 17:05:30.665117 140451682140992 efficientnet_model.py:458] Building model efficientnet with params ModelConfig(width_coefficient=2.0, depth_coefficient=3.1, resolution=600, dropout_rate=0.5, blocks=(BlockConfig(input_filters=32, output_filters=16, kernel_size=3, num_repeat=1, expand_ratio=1, strides=(1, 1), se_ratio=0.25, id_skip=True, fused_conv=False, conv_type='depthwise'), BlockConfig(input_filters=16, output_filters=24, kernel_size=3, num_repeat=2, expand_ratio=6, strides=(2, 2), se_ratio=0.25, id_skip=True, fused_conv=False, conv_type='depthwise'), BlockConfig(input_filters=24, output_filters=40, kernel_size=5, num_repeat=2, expand_ratio=6, strides=(2, 2), se_ratio=0.25, id_skip=True, fused_conv=False, conv_type='depthwise'), BlockConfig(input_filters=40, output_filters=80, kernel_size=3, num_repeat=3, expand_ratio=6, strides=(2, 2), se_ratio=0.25, id_skip=True, fused_conv=False, conv_type='depthwise'), BlockConfig(input_filters=80, output_filters=112, kernel_size=5, num_repeat=3, expand_ratio=6, strides=(1, 1), se_ratio=0.25, id_skip=True, fused_conv=False, conv_type='depthwise'), BlockConfig(input_filters=112, output_filters=192, kernel_size=5, num_repeat=4, expand_ratio=6, strides=(2, 2), se_ratio=0.25, id_skip=True, fused_conv=False, conv_type='depthwise'), BlockConfig(input_filters=192, output_filters=320, kernel_size=3, num_repeat=1, expand_ratio=6, strides=(1, 1), se_ratio=0.25, id_skip=True, fused_conv=False, conv_type='depthwise')), stem_base_filters=32, top_base_filters=1280, activation='simple_swish', batch_norm='default', bn_momentum=0.99, bn_epsilon=0.001, weight_decay=5e-06, drop_connect_rate=0.2, depth_divisor=8, min_depth=None, use_se=True, input_channels=3, num_classes=1000, model_name='efficientnet', rescale_input=False, data_format='channels_last', dtype='float32')\n",
      "INFO:tensorflow:time(__main__.ModelBuilderTF2Test.test_create_ssd_models_from_config): 17.15s\n",
      "I0720 17:05:30.758752 140451682140992 test_util.py:2102] time(__main__.ModelBuilderTF2Test.test_create_ssd_models_from_config): 17.15s\n",
      "[       OK ] ModelBuilderTF2Test.test_create_ssd_models_from_config\n",
      "[ RUN      ] ModelBuilderTF2Test.test_invalid_faster_rcnn_batchnorm_update\n",
      "INFO:tensorflow:time(__main__.ModelBuilderTF2Test.test_invalid_faster_rcnn_batchnorm_update): 0.0s\n",
      "I0720 17:05:30.768330 140451682140992 test_util.py:2102] time(__main__.ModelBuilderTF2Test.test_invalid_faster_rcnn_batchnorm_update): 0.0s\n",
      "[       OK ] ModelBuilderTF2Test.test_invalid_faster_rcnn_batchnorm_update\n",
      "[ RUN      ] ModelBuilderTF2Test.test_invalid_first_stage_nms_iou_threshold\n",
      "INFO:tensorflow:time(__main__.ModelBuilderTF2Test.test_invalid_first_stage_nms_iou_threshold): 0.0s\n",
      "I0720 17:05:30.769537 140451682140992 test_util.py:2102] time(__main__.ModelBuilderTF2Test.test_invalid_first_stage_nms_iou_threshold): 0.0s\n",
      "[       OK ] ModelBuilderTF2Test.test_invalid_first_stage_nms_iou_threshold\n",
      "[ RUN      ] ModelBuilderTF2Test.test_invalid_model_config_proto\n",
      "INFO:tensorflow:time(__main__.ModelBuilderTF2Test.test_invalid_model_config_proto): 0.0s\n",
      "I0720 17:05:30.769881 140451682140992 test_util.py:2102] time(__main__.ModelBuilderTF2Test.test_invalid_model_config_proto): 0.0s\n",
      "[       OK ] ModelBuilderTF2Test.test_invalid_model_config_proto\n",
      "[ RUN      ] ModelBuilderTF2Test.test_invalid_second_stage_batch_size\n",
      "INFO:tensorflow:time(__main__.ModelBuilderTF2Test.test_invalid_second_stage_batch_size): 0.0s\n",
      "I0720 17:05:30.770860 140451682140992 test_util.py:2102] time(__main__.ModelBuilderTF2Test.test_invalid_second_stage_batch_size): 0.0s\n",
      "[       OK ] ModelBuilderTF2Test.test_invalid_second_stage_batch_size\n",
      "[ RUN      ] ModelBuilderTF2Test.test_session\n",
      "[  SKIPPED ] ModelBuilderTF2Test.test_session\n",
      "[ RUN      ] ModelBuilderTF2Test.test_unknown_faster_rcnn_feature_extractor\n",
      "INFO:tensorflow:time(__main__.ModelBuilderTF2Test.test_unknown_faster_rcnn_feature_extractor): 0.0s\n",
      "I0720 17:05:30.771771 140451682140992 test_util.py:2102] time(__main__.ModelBuilderTF2Test.test_unknown_faster_rcnn_feature_extractor): 0.0s\n",
      "[       OK ] ModelBuilderTF2Test.test_unknown_faster_rcnn_feature_extractor\n",
      "[ RUN      ] ModelBuilderTF2Test.test_unknown_meta_architecture\n",
      "INFO:tensorflow:time(__main__.ModelBuilderTF2Test.test_unknown_meta_architecture): 0.0s\n",
      "I0720 17:05:30.772045 140451682140992 test_util.py:2102] time(__main__.ModelBuilderTF2Test.test_unknown_meta_architecture): 0.0s\n",
      "[       OK ] ModelBuilderTF2Test.test_unknown_meta_architecture\n",
      "[ RUN      ] ModelBuilderTF2Test.test_unknown_ssd_feature_extractor\n",
      "INFO:tensorflow:time(__main__.ModelBuilderTF2Test.test_unknown_ssd_feature_extractor): 0.0s\n",
      "I0720 17:05:30.772788 140451682140992 test_util.py:2102] time(__main__.ModelBuilderTF2Test.test_unknown_ssd_feature_extractor): 0.0s\n",
      "[       OK ] ModelBuilderTF2Test.test_unknown_ssd_feature_extractor\n",
      "----------------------------------------------------------------------\n",
      "Ran 24 tests in 20.133s\n",
      "\n",
      "OK (skipped=1)\n"
     ]
    }
   ],
   "source": [
    "VERIFICATION_SCRIPT = os.path.join(paths['APIMODEL_PATH'], 'research', 'object_detection', 'builders', 'model_builder_tf2_test.py')\n",
    "# Verify Installation\n",
    "!python {VERIFICATION_SCRIPT}"
   ]
  },
  {
   "cell_type": "code",
   "execution_count": 14,
   "metadata": {},
   "outputs": [
    {
     "output_type": "stream",
     "name": "stdout",
     "text": [
      "Requirement already satisfied: tensorflow in /home/uruk380/.local/lib/python3.8/site-packages (2.5.0)\n",
      "Requirement already satisfied: keras-preprocessing~=1.1.2 in /home/uruk380/.local/lib/python3.8/site-packages (from tensorflow) (1.1.2)\n",
      "Requirement already satisfied: opt-einsum~=3.3.0 in /home/uruk380/.local/lib/python3.8/site-packages (from tensorflow) (3.3.0)\n",
      "Requirement already satisfied: gast==0.4.0 in /home/uruk380/.local/lib/python3.8/site-packages (from tensorflow) (0.4.0)\n",
      "Requirement already satisfied: numpy~=1.19.2 in /home/uruk380/.local/lib/python3.8/site-packages (from tensorflow) (1.19.5)\n",
      "Requirement already satisfied: flatbuffers~=1.12.0 in /home/uruk380/.local/lib/python3.8/site-packages (from tensorflow) (1.12)\n",
      "Requirement already satisfied: wrapt~=1.12.1 in /home/uruk380/.local/lib/python3.8/site-packages (from tensorflow) (1.12.1)\n",
      "Requirement already satisfied: keras-nightly~=2.5.0.dev in /home/uruk380/.local/lib/python3.8/site-packages (from tensorflow) (2.5.0.dev2021032900)\n",
      "Requirement already satisfied: grpcio~=1.34.0 in /home/uruk380/.local/lib/python3.8/site-packages (from tensorflow) (1.34.1)\n",
      "Requirement already satisfied: six~=1.15.0 in /home/uruk380/.local/lib/python3.8/site-packages (from tensorflow) (1.15.0)\n",
      "Requirement already satisfied: protobuf>=3.9.2 in /home/uruk380/.local/lib/python3.8/site-packages (from tensorflow) (3.17.1)\n",
      "Requirement already satisfied: tensorflow-estimator<2.6.0,>=2.5.0rc0 in /home/uruk380/.local/lib/python3.8/site-packages (from tensorflow) (2.5.0)\n",
      "Requirement already satisfied: absl-py~=0.10 in /home/uruk380/.local/lib/python3.8/site-packages (from tensorflow) (0.12.0)\n",
      "Requirement already satisfied: h5py~=3.1.0 in /home/uruk380/.local/lib/python3.8/site-packages (from tensorflow) (3.1.0)\n",
      "Requirement already satisfied: google-pasta~=0.2 in /home/uruk380/.local/lib/python3.8/site-packages (from tensorflow) (0.2.0)\n",
      "Requirement already satisfied: astunparse~=1.6.3 in /home/uruk380/.local/lib/python3.8/site-packages (from tensorflow) (1.6.3)\n",
      "Requirement already satisfied: wheel~=0.35 in /home/uruk380/.local/lib/python3.8/site-packages (from tensorflow) (0.36.2)\n",
      "Requirement already satisfied: termcolor~=1.1.0 in /home/uruk380/.local/lib/python3.8/site-packages (from tensorflow) (1.1.0)\n",
      "Requirement already satisfied: typing-extensions~=3.7.4 in /home/uruk380/.local/lib/python3.8/site-packages (from tensorflow) (3.7.4.3)\n",
      "Requirement already satisfied: tensorboard~=2.5 in /home/uruk380/.local/lib/python3.8/site-packages (from tensorflow) (2.5.0)\n",
      "Requirement already satisfied: google-auth-oauthlib<0.5,>=0.4.1 in /home/uruk380/.local/lib/python3.8/site-packages (from tensorboard~=2.5->tensorflow) (0.4.4)\n",
      "Requirement already satisfied: markdown>=2.6.8 in /home/uruk380/anaconda3/envs/Tensorflow_Object_Detection_env/lib/python3.8/site-packages (from tensorboard~=2.5->tensorflow) (3.3.4)\n",
      "Requirement already satisfied: tensorboard-plugin-wit>=1.6.0 in /home/uruk380/.local/lib/python3.8/site-packages (from tensorboard~=2.5->tensorflow) (1.8.0)\n",
      "Requirement already satisfied: tensorboard-data-server<0.7.0,>=0.6.0 in /home/uruk380/.local/lib/python3.8/site-packages (from tensorboard~=2.5->tensorflow) (0.6.1)\n",
      "Requirement already satisfied: setuptools>=41.0.0 in /home/uruk380/anaconda3/envs/Tensorflow_Object_Detection_env/lib/python3.8/site-packages (from tensorboard~=2.5->tensorflow) (52.0.0.post20210125)\n",
      "Requirement already satisfied: google-auth<2,>=1.6.3 in /home/uruk380/.local/lib/python3.8/site-packages (from tensorboard~=2.5->tensorflow) (1.32.1)\n",
      "Requirement already satisfied: requests<3,>=2.21.0 in /home/uruk380/anaconda3/envs/Tensorflow_Object_Detection_env/lib/python3.8/site-packages (from tensorboard~=2.5->tensorflow) (2.26.0)\n",
      "Requirement already satisfied: werkzeug>=0.11.15 in /home/uruk380/.local/lib/python3.8/site-packages (from tensorboard~=2.5->tensorflow) (2.0.1)\n",
      "Requirement already satisfied: cachetools<5.0,>=2.0.0 in /home/uruk380/.local/lib/python3.8/site-packages (from google-auth<2,>=1.6.3->tensorboard~=2.5->tensorflow) (4.2.2)\n",
      "Requirement already satisfied: rsa<5,>=3.1.4 in /home/uruk380/.local/lib/python3.8/site-packages (from google-auth<2,>=1.6.3->tensorboard~=2.5->tensorflow) (4.7.2)\n",
      "Requirement already satisfied: pyasn1-modules>=0.2.1 in /home/uruk380/.local/lib/python3.8/site-packages (from google-auth<2,>=1.6.3->tensorboard~=2.5->tensorflow) (0.2.8)\n",
      "Requirement already satisfied: requests-oauthlib>=0.7.0 in /home/uruk380/.local/lib/python3.8/site-packages (from google-auth-oauthlib<0.5,>=0.4.1->tensorboard~=2.5->tensorflow) (1.3.0)\n",
      "Requirement already satisfied: pyasn1<0.5.0,>=0.4.6 in /home/uruk380/.local/lib/python3.8/site-packages (from pyasn1-modules>=0.2.1->google-auth<2,>=1.6.3->tensorboard~=2.5->tensorflow) (0.4.8)\n",
      "Requirement already satisfied: idna<4,>=2.5 in /home/uruk380/anaconda3/envs/Tensorflow_Object_Detection_env/lib/python3.8/site-packages (from requests<3,>=2.21.0->tensorboard~=2.5->tensorflow) (3.2)\n",
      "Requirement already satisfied: charset-normalizer~=2.0.0 in /home/uruk380/anaconda3/envs/Tensorflow_Object_Detection_env/lib/python3.8/site-packages (from requests<3,>=2.21.0->tensorboard~=2.5->tensorflow) (2.0.3)\n",
      "Requirement already satisfied: certifi>=2017.4.17 in /home/uruk380/anaconda3/envs/Tensorflow_Object_Detection_env/lib/python3.8/site-packages (from requests<3,>=2.21.0->tensorboard~=2.5->tensorflow) (2021.5.30)\n",
      "Requirement already satisfied: urllib3<1.27,>=1.21.1 in /home/uruk380/anaconda3/envs/Tensorflow_Object_Detection_env/lib/python3.8/site-packages (from requests<3,>=2.21.0->tensorboard~=2.5->tensorflow) (1.26.6)\n",
      "Requirement already satisfied: oauthlib>=3.0.0 in /home/uruk380/anaconda3/envs/Tensorflow_Object_Detection_env/lib/python3.8/site-packages (from requests-oauthlib>=0.7.0->google-auth-oauthlib<0.5,>=0.4.1->tensorboard~=2.5->tensorflow) (3.1.1)\n"
     ]
    }
   ],
   "source": [
    "!pip install tensorflow --upgrade"
   ]
  },
  {
   "cell_type": "code",
   "execution_count": 15,
   "metadata": {},
   "outputs": [
    {
     "output_type": "stream",
     "name": "stdout",
     "text": [
      "Found existing installation: protobuf 3.17.1\n",
      "Uninstalling protobuf-3.17.1:\n",
      "  Successfully uninstalled protobuf-3.17.1\n",
      "Found existing installation: matplotlib 3.4.2\n",
      "Uninstalling matplotlib-3.4.2:\n",
      "  Successfully uninstalled matplotlib-3.4.2\n",
      "Collecting protobuf\n",
      "  Downloading protobuf-3.17.3-cp38-cp38-manylinux_2_5_x86_64.manylinux1_x86_64.whl (1.0 MB)\n",
      "\u001b[K     |████████████████████████████████| 1.0 MB 1.2 MB/s \n",
      "\u001b[?25hCollecting matplotlib==3.2\n",
      "  Downloading matplotlib-3.2.0-cp38-cp38-manylinux1_x86_64.whl (12.4 MB)\n",
      "\u001b[K     |████████████████████████████████| 12.4 MB 1.4 MB/s \n",
      "\u001b[?25hRequirement already satisfied: kiwisolver>=1.0.1 in /home/uruk380/anaconda3/envs/Tensorflow_Object_Detection_env/lib/python3.8/site-packages (from matplotlib==3.2) (1.3.1)\n",
      "Requirement already satisfied: python-dateutil>=2.1 in /home/uruk380/anaconda3/envs/Tensorflow_Object_Detection_env/lib/python3.8/site-packages (from matplotlib==3.2) (2.8.2)\n",
      "Requirement already satisfied: pyparsing!=2.0.4,!=2.1.2,!=2.1.6,>=2.0.1 in /home/uruk380/anaconda3/envs/Tensorflow_Object_Detection_env/lib/python3.8/site-packages (from matplotlib==3.2) (2.4.7)\n",
      "Requirement already satisfied: numpy>=1.11 in /home/uruk380/.local/lib/python3.8/site-packages (from matplotlib==3.2) (1.19.5)\n",
      "Requirement already satisfied: cycler>=0.10 in /home/uruk380/anaconda3/envs/Tensorflow_Object_Detection_env/lib/python3.8/site-packages (from matplotlib==3.2) (0.10.0)\n",
      "Requirement already satisfied: six in /home/uruk380/.local/lib/python3.8/site-packages (from cycler>=0.10->matplotlib==3.2) (1.15.0)\n",
      "Installing collected packages: protobuf, matplotlib\n",
      "Successfully installed matplotlib-3.2.0 protobuf-3.17.3\n"
     ]
    }
   ],
   "source": [
    "!pip uninstall protobuf matplotlib -y\n",
    "!pip install protobuf matplotlib==3.2"
   ]
  },
  {
   "cell_type": "code",
   "execution_count": 53,
   "metadata": {},
   "outputs": [],
   "source": [
    "import object_detection"
   ]
  },
  {
   "cell_type": "code",
   "execution_count": 17,
   "metadata": {},
   "outputs": [
    {
     "output_type": "stream",
     "name": "stdout",
     "text": [
      "--2021-07-20 09:57:41--  http://download.tensorflow.org/models/object_detection/tf2/20200711/ssd_mobilenet_v2_fpnlite_320x320_coco17_tpu-8.tar.gz\n",
      "Résolution de download.tensorflow.org (download.tensorflow.org)… 2a00:1450:4007:810::2010, 216.58.214.80\n",
      "Connexion à download.tensorflow.org (download.tensorflow.org)|2a00:1450:4007:810::2010|:80… connecté.\n",
      "requête HTTP transmise, en attente de la réponse… 200 OK\n",
      "Taille : 20515344 (20M) [application/x-tar]\n",
      "Enregistre : «ssd_mobilenet_v2_fpnlite_320x320_coco17_tpu-8.tar.gz»\n",
      "\n",
      "ssd_mobilenet_v2_fp 100%[===================>]  19,56M  1,39MB/s    ds 14s     \n",
      "\n",
      "2021-07-20 09:57:55 (1,45 MB/s) - «ssd_mobilenet_v2_fpnlite_320x320_coco17_tpu-8.tar.gz» enregistré [20515344/20515344]\n",
      "\n",
      "ssd_mobilenet_v2_fpnlite_320x320_coco17_tpu-8/\n",
      "ssd_mobilenet_v2_fpnlite_320x320_coco17_tpu-8/checkpoint/\n",
      "ssd_mobilenet_v2_fpnlite_320x320_coco17_tpu-8/checkpoint/ckpt-0.data-00000-of-00001\n",
      "ssd_mobilenet_v2_fpnlite_320x320_coco17_tpu-8/checkpoint/checkpoint\n",
      "ssd_mobilenet_v2_fpnlite_320x320_coco17_tpu-8/checkpoint/ckpt-0.index\n",
      "ssd_mobilenet_v2_fpnlite_320x320_coco17_tpu-8/pipeline.config\n",
      "ssd_mobilenet_v2_fpnlite_320x320_coco17_tpu-8/saved_model/\n",
      "ssd_mobilenet_v2_fpnlite_320x320_coco17_tpu-8/saved_model/saved_model.pb\n",
      "ssd_mobilenet_v2_fpnlite_320x320_coco17_tpu-8/saved_model/variables/\n",
      "ssd_mobilenet_v2_fpnlite_320x320_coco17_tpu-8/saved_model/variables/variables.data-00000-of-00001\n",
      "ssd_mobilenet_v2_fpnlite_320x320_coco17_tpu-8/saved_model/variables/variables.index\n"
     ]
    }
   ],
   "source": [
    "if os.name =='posix':\n",
    "    !wget {PRETRAINED_MODEL_URL}\n",
    "    !mv {PRETRAINED_MODEL_NAME+'.tar.gz'} {paths['PRETRAINED_MODEL_PATH']}\n",
    "    !cd {paths['PRETRAINED_MODEL_PATH']} && tar -zxvf {PRETRAINED_MODEL_NAME+'.tar.gz'}\n",
    "if os.name == 'nt':\n",
    "    wget.download(PRETRAINED_MODEL_URL)\n",
    "    !move {PRETRAINED_MODEL_NAME+'.tar.gz'} {paths['PRETRAINED_MODEL_PATH']}\n",
    "    !cd {paths['PRETRAINED_MODEL_PATH']} && tar -zxvf {PRETRAINED_MODEL_NAME+'.tar.gz'}\n",
    "\n"
   ]
  },
  {
   "source": [
    "# 2. Create Label Map"
   ],
   "cell_type": "markdown",
   "metadata": {}
  },
  {
   "cell_type": "code",
   "execution_count": 54,
   "metadata": {},
   "outputs": [],
   "source": [
    "# becareful we have to use the same label as used in the label software\n",
    "labels = [{'name':'thumbUp','id':1},{'name':'thumbsDown', 'id':2},{'name':'thankYou','id':3},{'name':'goodLuck','id':4}]\n",
    "\n",
    "with open(files['LABELMAP'], 'w') as f:\n",
    "    for label in labels:\n",
    "        f.write('item { \\n')\n",
    "        f.write('\\tname:\\'{}\\'\\n'.format(label['name']))\n",
    "        f.write('\\tid:{}\\n'.format(label['id']))\n",
    "        f.write('}\\n')"
   ]
  },
  {
   "cell_type": "code",
   "execution_count": 31,
   "metadata": {},
   "outputs": [
    {
     "output_type": "stream",
     "name": "stdout",
     "text": [
      "[Errno 2] No such file or directory: 'My_Own_Project/Tensorflow_Object_Detection/'\n/home/uruk380/UTC_UBUNTU/My_Own_Project/Tensorflow_Object_Detection\n"
     ]
    }
   ],
   "source": [
    "cd My_Own_Project/Tensorflow_Object_Detection/\n"
   ]
  },
  {
   "source": [
    "# 3.TFRecords"
   ],
   "cell_type": "markdown",
   "metadata": {}
  },
  {
   "source": [
    "- TFRecords are a binary file format for storing data.\n",
    "- Using a TFRecord helps speed up training for your custom object detection model\n",
    "- It converts our annotations and images into file format that we can use"
   ],
   "cell_type": "markdown",
   "metadata": {}
  },
  {
   "cell_type": "code",
   "execution_count": 21,
   "metadata": {},
   "outputs": [],
   "source": [
    "# OPTIONAL IF RUNNING ON COLAB\n",
    "ARCHIVE_FILES = os.path.join(paths['IMAGE_PATH'], 'archive.tar.gz')\n",
    "if os.path.exists(ARCHIVE_FILES):\n",
    "  !tar -zxvf {ARCHIVE_FILES}\n",
    "\n"
   ]
  },
  {
   "cell_type": "code",
   "execution_count": 15,
   "metadata": {},
   "outputs": [
    {
     "output_type": "stream",
     "name": "stdout",
     "text": [
      "Clonage dans 'Nicholas_Renotte_Course/Scripts'...\n",
      "remote: Enumerating objects: 3, done.\u001b[K\n",
      "remote: Counting objects: 100% (3/3), done.\u001b[K\n",
      "remote: Compressing objects: 100% (2/2), done.\u001b[K\n",
      "remote: Total 3 (delta 0), reused 1 (delta 0), pack-reused 0\u001b[K\n",
      "Dépaquetage des objets: 100% (3/3), 2.67 Kio | 2.67 Mio/s, fait.\n"
     ]
    }
   ],
   "source": [
    "if not os.path.exists(files['TF_RECORD_SCRIPT']):\n",
    "    !git clone https://github.com/nicknochnack/GenerateTFRecord {paths['SCRIPTS_PATH']}\n",
    "\n"
   ]
  },
  {
   "source": [
    "### *if we have use wrong label there will be an error in the below cell*"
   ],
   "cell_type": "markdown",
   "metadata": {}
  },
  {
   "cell_type": "code",
   "execution_count": 55,
   "metadata": {},
   "outputs": [
    {
     "output_type": "stream",
     "name": "stdout",
     "text": [
      "Successfully created the TFRecord file: Nicholas_Renotte_Course/Workspace/Annotations/train.record\n",
      "Successfully created the TFRecord file: Nicholas_Renotte_Course/Workspace/Annotations/test.record\n"
     ]
    }
   ],
   "source": [
    "!python {files['TF_RECORD_SCRIPT']} -x {os.path.join(paths['IMAGE_PATH'], 'Train')} -l {files['LABELMAP']} -o {os.path.join(paths['ANNOTATION_PATH'], 'train.record')} \n",
    "!python {files['TF_RECORD_SCRIPT']} -x {os.path.join(paths['IMAGE_PATH'], 'Test')} -l {files['LABELMAP']} -o {os.path.join(paths['ANNOTATION_PATH'], 'test.record')}"
   ]
  },
  {
   "source": [
    "Good to know:\n",
    "- pipeline.config is what controls what your model looks like. It defines the architecture of the model\n",
    "- it does our data augmentation for us. In other models the data augmentation architecture is different.\n",
    "- below that we have path that we have to configure !\n",
    "    - fine_tune_checkpoint\n",
    "    - label_map_path (train_input_reader)\n",
    "    - input_path (train_input_reader)\n",
    "    - label_map_path (eval_input_reader)\n",
    "    - input_path (eval_input_reader)\n",
    "- label map path is our labelmap.pbtext\n",
    "- input path is our train.record (train_input_reader)\n",
    "- input path is our test.record (eval_input_reader)"
   ],
   "cell_type": "markdown",
   "metadata": {}
  },
  {
   "source": [
    "# 4. Copy Model Config to Training Folder"
   ],
   "cell_type": "markdown",
   "metadata": {}
  },
  {
   "cell_type": "code",
   "execution_count": 33,
   "metadata": {},
   "outputs": [],
   "source": [
    "if os.name =='posix':\n",
    "    !cp {os.path.join(paths['PRETRAINED_MODEL_PATH'], PRETRAINED_MODEL_NAME, 'pipeline.config')} {os.path.join(paths['CHECKPOINT_PATH'])}\n",
    "if os.name == 'nt':\n",
    "    !copy {os.path.join(paths['PRETRAINED_MODEL_PATH'], PRETRAINED_MODEL_NAME, 'pipeline.config')} {os.path.join(paths['CHECKPOINT_PATH'])}"
   ]
  },
  {
   "source": [
    "# 5. Update Config For Transfer Learning"
   ],
   "cell_type": "markdown",
   "metadata": {}
  },
  {
   "cell_type": "code",
   "execution_count": 56,
   "metadata": {},
   "outputs": [],
   "source": [
    "import tensorflow as tf\n",
    "from object_detection.utils import config_util\n",
    "from object_detection.protos import pipeline_pb2\n",
    "from google.protobuf import text_format"
   ]
  },
  {
   "cell_type": "code",
   "execution_count": 42,
   "metadata": {},
   "outputs": [],
   "source": [
    "config = config_util.get_configs_from_pipeline_file(files['PIPELINE_CONFIG'])"
   ]
  },
  {
   "cell_type": "code",
   "execution_count": 43,
   "metadata": {},
   "outputs": [
    {
     "output_type": "execute_result",
     "data": {
      "text/plain": [
       "{'model': ssd {\n",
       "   num_classes: 4\n",
       "   image_resizer {\n",
       "     fixed_shape_resizer {\n",
       "       height: 320\n",
       "       width: 320\n",
       "     }\n",
       "   }\n",
       "   feature_extractor {\n",
       "     type: \"ssd_mobilenet_v2_fpn_keras\"\n",
       "     depth_multiplier: 1.0\n",
       "     min_depth: 16\n",
       "     conv_hyperparams {\n",
       "       regularizer {\n",
       "         l2_regularizer {\n",
       "           weight: 3.9999998989515007e-05\n",
       "         }\n",
       "       }\n",
       "       initializer {\n",
       "         random_normal_initializer {\n",
       "           mean: 0.0\n",
       "           stddev: 0.009999999776482582\n",
       "         }\n",
       "       }\n",
       "       activation: RELU_6\n",
       "       batch_norm {\n",
       "         decay: 0.996999979019165\n",
       "         scale: true\n",
       "         epsilon: 0.0010000000474974513\n",
       "       }\n",
       "     }\n",
       "     use_depthwise: true\n",
       "     override_base_feature_extractor_hyperparams: true\n",
       "     fpn {\n",
       "       min_level: 3\n",
       "       max_level: 7\n",
       "       additional_layer_depth: 128\n",
       "     }\n",
       "   }\n",
       "   box_coder {\n",
       "     faster_rcnn_box_coder {\n",
       "       y_scale: 10.0\n",
       "       x_scale: 10.0\n",
       "       height_scale: 5.0\n",
       "       width_scale: 5.0\n",
       "     }\n",
       "   }\n",
       "   matcher {\n",
       "     argmax_matcher {\n",
       "       matched_threshold: 0.5\n",
       "       unmatched_threshold: 0.5\n",
       "       ignore_thresholds: false\n",
       "       negatives_lower_than_unmatched: true\n",
       "       force_match_for_each_row: true\n",
       "       use_matmul_gather: true\n",
       "     }\n",
       "   }\n",
       "   similarity_calculator {\n",
       "     iou_similarity {\n",
       "     }\n",
       "   }\n",
       "   box_predictor {\n",
       "     weight_shared_convolutional_box_predictor {\n",
       "       conv_hyperparams {\n",
       "         regularizer {\n",
       "           l2_regularizer {\n",
       "             weight: 3.9999998989515007e-05\n",
       "           }\n",
       "         }\n",
       "         initializer {\n",
       "           random_normal_initializer {\n",
       "             mean: 0.0\n",
       "             stddev: 0.009999999776482582\n",
       "           }\n",
       "         }\n",
       "         activation: RELU_6\n",
       "         batch_norm {\n",
       "           decay: 0.996999979019165\n",
       "           scale: true\n",
       "           epsilon: 0.0010000000474974513\n",
       "         }\n",
       "       }\n",
       "       depth: 128\n",
       "       num_layers_before_predictor: 4\n",
       "       kernel_size: 3\n",
       "       class_prediction_bias_init: -4.599999904632568\n",
       "       share_prediction_tower: true\n",
       "       use_depthwise: true\n",
       "     }\n",
       "   }\n",
       "   anchor_generator {\n",
       "     multiscale_anchor_generator {\n",
       "       min_level: 3\n",
       "       max_level: 7\n",
       "       anchor_scale: 4.0\n",
       "       aspect_ratios: 1.0\n",
       "       aspect_ratios: 2.0\n",
       "       aspect_ratios: 0.5\n",
       "       scales_per_octave: 2\n",
       "     }\n",
       "   }\n",
       "   post_processing {\n",
       "     batch_non_max_suppression {\n",
       "       score_threshold: 9.99999993922529e-09\n",
       "       iou_threshold: 0.6000000238418579\n",
       "       max_detections_per_class: 100\n",
       "       max_total_detections: 100\n",
       "       use_static_shapes: false\n",
       "     }\n",
       "     score_converter: SIGMOID\n",
       "   }\n",
       "   normalize_loss_by_num_matches: true\n",
       "   loss {\n",
       "     localization_loss {\n",
       "       weighted_smooth_l1 {\n",
       "       }\n",
       "     }\n",
       "     classification_loss {\n",
       "       weighted_sigmoid_focal {\n",
       "         gamma: 2.0\n",
       "         alpha: 0.25\n",
       "       }\n",
       "     }\n",
       "     classification_weight: 1.0\n",
       "     localization_weight: 1.0\n",
       "   }\n",
       "   encode_background_as_zeros: true\n",
       "   normalize_loc_loss_by_codesize: true\n",
       "   inplace_batchnorm_update: true\n",
       "   freeze_batchnorm: false\n",
       " },\n",
       " 'train_config': batch_size: 4\n",
       " data_augmentation_options {\n",
       "   random_horizontal_flip {\n",
       "   }\n",
       " }\n",
       " data_augmentation_options {\n",
       "   random_crop_image {\n",
       "     min_object_covered: 0.0\n",
       "     min_aspect_ratio: 0.75\n",
       "     max_aspect_ratio: 3.0\n",
       "     min_area: 0.75\n",
       "     max_area: 1.0\n",
       "     overlap_thresh: 0.0\n",
       "   }\n",
       " }\n",
       " sync_replicas: true\n",
       " optimizer {\n",
       "   momentum_optimizer {\n",
       "     learning_rate {\n",
       "       cosine_decay_learning_rate {\n",
       "         learning_rate_base: 0.07999999821186066\n",
       "         total_steps: 50000\n",
       "         warmup_learning_rate: 0.026666000485420227\n",
       "         warmup_steps: 1000\n",
       "       }\n",
       "     }\n",
       "     momentum_optimizer_value: 0.8999999761581421\n",
       "   }\n",
       "   use_moving_average: false\n",
       " }\n",
       " fine_tune_checkpoint: \"Nicholas_Renotte_Course/Workspace/Pre-trained-models/ssd_mobilenet_v2_fpnlite_320x320_coco17_tpu-8/checkpoint/ckpt-0\"\n",
       " num_steps: 50000\n",
       " startup_delay_steps: 0.0\n",
       " replicas_to_aggregate: 8\n",
       " max_number_of_boxes: 100\n",
       " unpad_groundtruth_tensors: false\n",
       " fine_tune_checkpoint_type: \"detection\"\n",
       " fine_tune_checkpoint_version: V2,\n",
       " 'train_input_config': label_map_path: \"Nicholas_Renotte_Course/Workspace/Annotations/label_map.pbtx\"\n",
       " tf_record_input_reader {\n",
       "   input_path: \"Nicholas_Renotte_Course/Workspace/Annotations/train.record\"\n",
       " },\n",
       " 'eval_config': metrics_set: \"coco_detection_metrics\"\n",
       " use_moving_averages: false,\n",
       " 'eval_input_configs': [label_map_path: \"Nicholas_Renotte_Course/Workspace/Annotations/label_map.pbtx\"\n",
       " shuffle: false\n",
       " num_epochs: 1\n",
       " tf_record_input_reader {\n",
       "   input_path: \"Nicholas_Renotte_Course/Workspace/Annotations/test.record\"\n",
       " }\n",
       " ],\n",
       " 'eval_input_config': label_map_path: \"Nicholas_Renotte_Course/Workspace/Annotations/label_map.pbtx\"\n",
       " shuffle: false\n",
       " num_epochs: 1\n",
       " tf_record_input_reader {\n",
       "   input_path: \"Nicholas_Renotte_Course/Workspace/Annotations/test.record\"\n",
       " }}"
      ]
     },
     "metadata": {},
     "execution_count": 43
    }
   ],
   "source": [
    "config"
   ]
  },
  {
   "cell_type": "code",
   "execution_count": 37,
   "metadata": {},
   "outputs": [],
   "source": [
    "pipeline_config = pipeline_pb2.TrainEvalPipelineConfig()\n",
    "with tf.io.gfile.GFile(files['PIPELINE_CONFIG'], \"r\") as f:\n",
    "    proto_str = f.read()\n",
    "    text_format.Merge(proto_str, pipeline_config)"
   ]
  },
  {
   "cell_type": "code",
   "execution_count": 38,
   "metadata": {},
   "outputs": [],
   "source": [
    "pipeline_config.model.ssd.num_classes = len(labels)\n",
    "pipeline_config.train_config.batch_size = 4\n",
    "pipeline_config.train_config.fine_tune_checkpoint = os.path.join(paths['PRETRAINED_MODEL_PATH'], PRETRAINED_MODEL_NAME, 'checkpoint', 'ckpt-0')\n",
    "pipeline_config.train_config.fine_tune_checkpoint_type = \"detection\"\n",
    "pipeline_config.train_input_reader.label_map_path= files['LABELMAP']\n",
    "pipeline_config.train_input_reader.tf_record_input_reader.input_path[:] = [os.path.join(paths['ANNOTATION_PATH'], 'train.record')]\n",
    "pipeline_config.eval_input_reader[0].label_map_path = files['LABELMAP']\n",
    "pipeline_config.eval_input_reader[0].tf_record_input_reader.input_path[:] = [os.path.join(paths['ANNOTATION_PATH'], 'test.record')]\n",
    "\n"
   ]
  },
  {
   "cell_type": "code",
   "execution_count": 39,
   "metadata": {},
   "outputs": [],
   "source": [
    "config_text = text_format.MessageToString(pipeline_config)  \n",
    "with tf.io.gfile.GFile(files['PIPELINE_CONFIG'], \"wb\") as f:\n",
    "    f.write(config_text)"
   ]
  },
  {
   "cell_type": "code",
   "execution_count": 40,
   "metadata": {},
   "outputs": [
    {
     "output_type": "execute_result",
     "data": {
      "text/plain": [
       "'model {\\n  ssd {\\n    num_classes: 4\\n    image_resizer {\\n      fixed_shape_resizer {\\n        height: 320\\n        width: 320\\n      }\\n    }\\n    feature_extractor {\\n      type: \"ssd_mobilenet_v2_fpn_keras\"\\n      depth_multiplier: 1.0\\n      min_depth: 16\\n      conv_hyperparams {\\n        regularizer {\\n          l2_regularizer {\\n            weight: 4e-05\\n          }\\n        }\\n        initializer {\\n          random_normal_initializer {\\n            mean: 0.0\\n            stddev: 0.01\\n          }\\n        }\\n        activation: RELU_6\\n        batch_norm {\\n          decay: 0.997\\n          scale: true\\n          epsilon: 0.001\\n        }\\n      }\\n      use_depthwise: true\\n      override_base_feature_extractor_hyperparams: true\\n      fpn {\\n        min_level: 3\\n        max_level: 7\\n        additional_layer_depth: 128\\n      }\\n    }\\n    box_coder {\\n      faster_rcnn_box_coder {\\n        y_scale: 10.0\\n        x_scale: 10.0\\n        height_scale: 5.0\\n        width_scale: 5.0\\n      }\\n    }\\n    matcher {\\n      argmax_matcher {\\n        matched_threshold: 0.5\\n        unmatched_threshold: 0.5\\n        ignore_thresholds: false\\n        negatives_lower_than_unmatched: true\\n        force_match_for_each_row: true\\n        use_matmul_gather: true\\n      }\\n    }\\n    similarity_calculator {\\n      iou_similarity {\\n      }\\n    }\\n    box_predictor {\\n      weight_shared_convolutional_box_predictor {\\n        conv_hyperparams {\\n          regularizer {\\n            l2_regularizer {\\n              weight: 4e-05\\n            }\\n          }\\n          initializer {\\n            random_normal_initializer {\\n              mean: 0.0\\n              stddev: 0.01\\n            }\\n          }\\n          activation: RELU_6\\n          batch_norm {\\n            decay: 0.997\\n            scale: true\\n            epsilon: 0.001\\n          }\\n        }\\n        depth: 128\\n        num_layers_before_predictor: 4\\n        kernel_size: 3\\n        class_prediction_bias_init: -4.6\\n        share_prediction_tower: true\\n        use_depthwise: true\\n      }\\n    }\\n    anchor_generator {\\n      multiscale_anchor_generator {\\n        min_level: 3\\n        max_level: 7\\n        anchor_scale: 4.0\\n        aspect_ratios: 1.0\\n        aspect_ratios: 2.0\\n        aspect_ratios: 0.5\\n        scales_per_octave: 2\\n      }\\n    }\\n    post_processing {\\n      batch_non_max_suppression {\\n        score_threshold: 1e-08\\n        iou_threshold: 0.6\\n        max_detections_per_class: 100\\n        max_total_detections: 100\\n        use_static_shapes: false\\n      }\\n      score_converter: SIGMOID\\n    }\\n    normalize_loss_by_num_matches: true\\n    loss {\\n      localization_loss {\\n        weighted_smooth_l1 {\\n        }\\n      }\\n      classification_loss {\\n        weighted_sigmoid_focal {\\n          gamma: 2.0\\n          alpha: 0.25\\n        }\\n      }\\n      classification_weight: 1.0\\n      localization_weight: 1.0\\n    }\\n    encode_background_as_zeros: true\\n    normalize_loc_loss_by_codesize: true\\n    inplace_batchnorm_update: true\\n    freeze_batchnorm: false\\n  }\\n}\\ntrain_config {\\n  batch_size: 4\\n  data_augmentation_options {\\n    random_horizontal_flip {\\n    }\\n  }\\n  data_augmentation_options {\\n    random_crop_image {\\n      min_object_covered: 0.0\\n      min_aspect_ratio: 0.75\\n      max_aspect_ratio: 3.0\\n      min_area: 0.75\\n      max_area: 1.0\\n      overlap_thresh: 0.0\\n    }\\n  }\\n  sync_replicas: true\\n  optimizer {\\n    momentum_optimizer {\\n      learning_rate {\\n        cosine_decay_learning_rate {\\n          learning_rate_base: 0.08\\n          total_steps: 50000\\n          warmup_learning_rate: 0.026666\\n          warmup_steps: 1000\\n        }\\n      }\\n      momentum_optimizer_value: 0.9\\n    }\\n    use_moving_average: false\\n  }\\n  fine_tune_checkpoint: \"Nicholas_Renotte_Course/Workspace/Pre-trained-models/ssd_mobilenet_v2_fpnlite_320x320_coco17_tpu-8/checkpoint/ckpt-0\"\\n  num_steps: 50000\\n  startup_delay_steps: 0.0\\n  replicas_to_aggregate: 8\\n  max_number_of_boxes: 100\\n  unpad_groundtruth_tensors: false\\n  fine_tune_checkpoint_type: \"detection\"\\n  fine_tune_checkpoint_version: V2\\n}\\ntrain_input_reader {\\n  label_map_path: \"Nicholas_Renotte_Course/Workspace/Annotations/label_map.pbtx\"\\n  tf_record_input_reader {\\n    input_path: \"Nicholas_Renotte_Course/Workspace/Annotations/train.record\"\\n  }\\n}\\neval_config {\\n  metrics_set: \"coco_detection_metrics\"\\n  use_moving_averages: false\\n}\\neval_input_reader {\\n  label_map_path: \"Nicholas_Renotte_Course/Workspace/Annotations/label_map.pbtx\"\\n  shuffle: false\\n  num_epochs: 1\\n  tf_record_input_reader {\\n    input_path: \"Nicholas_Renotte_Course/Workspace/Annotations/test.record\"\\n  }\\n}\\n'"
      ]
     },
     "metadata": {},
     "execution_count": 40
    }
   ],
   "source": [
    "config_text"
   ]
  },
  {
   "source": [
    "# 6. Train the model"
   ],
   "cell_type": "markdown",
   "metadata": {}
  },
  {
   "cell_type": "code",
   "execution_count": 44,
   "metadata": {},
   "outputs": [],
   "source": [
    "TRAINING_SCRIPT = os.path.join(paths['APIMODEL_PATH'], 'research', 'object_detection', 'model_main_tf2.py')"
   ]
  },
  {
   "cell_type": "code",
   "execution_count": 47,
   "metadata": {},
   "outputs": [],
   "source": [
    "command = \"python3 {} --model_dir={} --pipeline_config_path={} --num_train_steps=3000\".format(TRAINING_SCRIPT, paths['CHECKPOINT_PATH'],files['PIPELINE_CONFIG'])"
   ]
  },
  {
   "source": [
    "good to start with num_train_steps = 2000"
   ],
   "cell_type": "markdown",
   "metadata": {}
  },
  {
   "cell_type": "code",
   "execution_count": 48,
   "metadata": {},
   "outputs": [
    {
     "output_type": "stream",
     "name": "stdout",
     "text": [
      "python3 Nicholas_Renotte_Course/Models/research/object_detection/model_main_tf2.py --model_dir=Nicholas_Renotte_Course/Workspace/Models/my_ssd_mobnet_tuned --pipeline_config_path=Nicholas_Renotte_Course/Workspace/Models/my_ssd_mobnet_tuned/pipeline.config --num_train_steps=3000\n"
     ]
    }
   ],
   "source": [
    "print(command)\n",
    "# write this command into a terminal"
   ]
  },
  {
   "source": [
    "python Nicholas_Renotte_Course/Models/research/object_detection/model_main_tf2.py --model_dir=Nicholas_Renotte_Course/Workspace/Models/my_ssd_mobnet --pipeline_config_path=Nicholas_Renotte_Course/Workspace/Models/my_ssd_mobnet/pipeline.config --num_train_steps=500"
   ],
   "cell_type": "markdown",
   "metadata": {}
  },
  {
   "source": [
    "# 7. Evaluate the Model"
   ],
   "cell_type": "markdown",
   "metadata": {}
  },
  {
   "cell_type": "code",
   "execution_count": 133,
   "metadata": {},
   "outputs": [],
   "source": [
    "command = \"python3 {} --model_dir={} --pipeline_config_path={} --checkpoint_dir={}\".format(TRAINING_SCRIPT, paths['CHECKPOINT_PATH'],files['PIPELINE_CONFIG'], paths['CHECKPOINT_PATH'])"
   ]
  },
  {
   "cell_type": "code",
   "execution_count": 134,
   "metadata": {},
   "outputs": [
    {
     "output_type": "stream",
     "name": "stdout",
     "text": [
      "python3 Nicholas_Renotte_Course/Models/research/object_detection/model_main_tf2.py --model_dir=Nicholas_Renotte_Course/Workspace/Models/my_ssd_mobnet --pipeline_config_path=Nicholas_Renotte_Course/Workspace/Models/my_ssd_mobnet/pipeline.config --checkpoint_dir=Nicholas_Renotte_Course/Workspace/Models/my_ssd_mobnet\n"
     ]
    }
   ],
   "source": [
    "print(command)"
   ]
  },
  {
   "source": [
    "# 8. Load Train Model From Checkpoint"
   ],
   "cell_type": "markdown",
   "metadata": {}
  },
  {
   "cell_type": "code",
   "execution_count": 57,
   "metadata": {},
   "outputs": [],
   "source": [
    "import os\n",
    "import tensorflow as tf\n",
    "from object_detection.utils import label_map_util\n",
    "from object_detection.utils import visualization_utils as viz_utils\n",
    "from object_detection.builders import model_builder\n",
    "from object_detection.utils import config_util\n"
   ]
  },
  {
   "source": [
    "becareful we have to change ckpt-x !"
   ],
   "cell_type": "markdown",
   "metadata": {}
  },
  {
   "cell_type": "code",
   "execution_count": 58,
   "metadata": {},
   "outputs": [
    {
     "output_type": "stream",
     "name": "stderr",
     "text": [
      "2021-07-21 14:36:37.336327: W tensorflow/stream_executor/platform/default/dso_loader.cc:64] Could not load dynamic library 'libcuda.so.1'; dlerror: libcuda.so.1: cannot open shared object file: No such file or directory\n2021-07-21 14:36:37.336355: W tensorflow/stream_executor/cuda/cuda_driver.cc:326] failed call to cuInit: UNKNOWN ERROR (303)\n2021-07-21 14:36:37.336379: I tensorflow/stream_executor/cuda/cuda_diagnostics.cc:156] kernel driver does not appear to be running on this host (uruk380-Lenovo-Yoga-C940-14IIL): /proc/driver/nvidia/version does not exist\n2021-07-21 14:36:37.336602: I tensorflow/core/platform/cpu_feature_guard.cc:142] This TensorFlow binary is optimized with oneAPI Deep Neural Network Library (oneDNN) to use the following CPU instructions in performance-critical operations:  AVX2 AVX512F FMA\nTo enable them in other operations, rebuild TensorFlow with the appropriate compiler flags.\n"
     ]
    }
   ],
   "source": [
    "# Load pipeline config and build a detection model\n",
    "configs = config_util.get_configs_from_pipeline_file(files['PIPELINE_CONFIG'])\n",
    "detection_model = model_builder.build(model_config=configs['model'], is_training=False)\n",
    "\n",
    "# Restore checkpoint\n",
    "ckpt = tf.compat.v2.train.Checkpoint(model=detection_model)\n",
    "ckpt.restore(os.path.join(paths['CHECKPOINT_PATH'], 'ckpt-4')).expect_partial()\n",
    "\n",
    "@tf.function\n",
    "def detect_fn(image):\n",
    "    image, shapes = detection_model.preprocess(image)\n",
    "    prediction_dict = detection_model.predict(image, shapes)\n",
    "    detections = detection_model.postprocess(prediction_dict, shapes)\n",
    "    return detections"
   ]
  },
  {
   "source": [
    "# 9. Detect from an Image"
   ],
   "cell_type": "markdown",
   "metadata": {}
  },
  {
   "cell_type": "code",
   "execution_count": 59,
   "metadata": {},
   "outputs": [],
   "source": [
    "import cv2 \n",
    "import numpy as np\n",
    "from matplotlib import pyplot as plt\n",
    "%matplotlib inline\n"
   ]
  },
  {
   "cell_type": "code",
   "execution_count": 60,
   "metadata": {},
   "outputs": [],
   "source": [
    "category_index = label_map_util.create_category_index_from_labelmap(files['LABELMAP'])"
   ]
  },
  {
   "cell_type": "code",
   "execution_count": 26,
   "metadata": {},
   "outputs": [],
   "source": [
    "IMAGE_PATH = os.path.join(paths['IMAGE_PATH'], 'Test', 'thumbsup.e8e6b780-e89a-11eb-8712-bd618ab3d1ce.jpg')"
   ]
  },
  {
   "cell_type": "code",
   "execution_count": 54,
   "metadata": {},
   "outputs": [],
   "source": [
    "tf.config.run_functions_eagerly(True)"
   ]
  },
  {
   "cell_type": "code",
   "execution_count": 31,
   "metadata": {},
   "outputs": [
    {
     "output_type": "display_data",
     "data": {
      "text/plain": "<Figure size 432x288 with 1 Axes>",
      "image/svg+xml": "<?xml version=\"1.0\" encoding=\"utf-8\" standalone=\"no\"?>\n<!DOCTYPE svg PUBLIC \"-//W3C//DTD SVG 1.1//EN\"\n  \"http://www.w3.org/Graphics/SVG/1.1/DTD/svg11.dtd\">\n<!-- Created with matplotlib (https://matplotlib.org/) -->\n<svg height=\"252.090844pt\" version=\"1.1\" viewBox=\"0 0 330.4075 252.090844\" width=\"330.4075pt\" xmlns=\"http://www.w3.org/2000/svg\" xmlns:xlink=\"http://www.w3.org/1999/xlink\">\n <defs>\n  <style type=\"text/css\">\n*{stroke-linecap:butt;stroke-linejoin:round;}\n  </style>\n </defs>\n <g id=\"figure_1\">\n  <g id=\"patch_1\">\n   <path d=\"M 0 252.090844 \nL 330.4075 252.090844 \nL 330.4075 0 \nL 0 0 \nz\n\" style=\"fill:none;\"/>\n  </g>\n  <g id=\"axes_1\">\n   <g id=\"patch_2\">\n    <path d=\"M 33.2875 228.212719 \nL 323.2075 228.212719 \nL 323.2075 10.772719 \nL 33.2875 10.772719 \nz\n\" style=\"fill:#ffffff;\"/>\n   </g>\n   <g clip-path=\"url(#pe6406ea99c)\">\n    <image height=\"218\" id=\"imagee76dfff93c\" transform=\"scale(1 -1)translate(0 -218)\" width=\"290\" x=\"33.2875\" xlink:href=\"data:image/png;base64,\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\" y=\"-10.212719\"/>\n   </g>\n   <g id=\"matplotlib.axis_1\">\n    <g id=\"xtick_1\">\n     <g id=\"line2d_1\">\n      <defs>\n       <path d=\"M 0 0 \nL 0 3.5 \n\" id=\"m73adbce145\" style=\"stroke:#000000;stroke-width:0.8;\"/>\n      </defs>\n      <g>\n       <use style=\"stroke:#000000;stroke-width:0.8;\" x=\"33.514\" xlink:href=\"#m73adbce145\" y=\"228.212719\"/>\n      </g>\n     </g>\n     <g id=\"text_1\">\n      <!-- 0 -->\n      <defs>\n       <path d=\"M 31.78125 66.40625 \nQ 24.171875 66.40625 20.328125 58.90625 \nQ 16.5 51.421875 16.5 36.375 \nQ 16.5 21.390625 20.328125 13.890625 \nQ 24.171875 6.390625 31.78125 6.390625 \nQ 39.453125 6.390625 43.28125 13.890625 \nQ 47.125 21.390625 47.125 36.375 \nQ 47.125 51.421875 43.28125 58.90625 \nQ 39.453125 66.40625 31.78125 66.40625 \nz\nM 31.78125 74.21875 \nQ 44.046875 74.21875 50.515625 64.515625 \nQ 56.984375 54.828125 56.984375 36.375 \nQ 56.984375 17.96875 50.515625 8.265625 \nQ 44.046875 -1.421875 31.78125 -1.421875 \nQ 19.53125 -1.421875 13.0625 8.265625 \nQ 6.59375 17.96875 6.59375 36.375 \nQ 6.59375 54.828125 13.0625 64.515625 \nQ 19.53125 74.21875 31.78125 74.21875 \nz\n\" id=\"DejaVuSans-48\"/>\n      </defs>\n      <g transform=\"translate(30.33275 242.811156)scale(0.1 -0.1)\">\n       <use xlink:href=\"#DejaVuSans-48\"/>\n      </g>\n     </g>\n    </g>\n    <g id=\"xtick_2\">\n     <g id=\"line2d_2\">\n      <g>\n       <use style=\"stroke:#000000;stroke-width:0.8;\" x=\"78.814\" xlink:href=\"#m73adbce145\" y=\"228.212719\"/>\n      </g>\n     </g>\n     <g id=\"text_2\">\n      <!-- 100 -->\n      <defs>\n       <path d=\"M 12.40625 8.296875 \nL 28.515625 8.296875 \nL 28.515625 63.921875 \nL 10.984375 60.40625 \nL 10.984375 69.390625 \nL 28.421875 72.90625 \nL 38.28125 72.90625 \nL 38.28125 8.296875 \nL 54.390625 8.296875 \nL 54.390625 0 \nL 12.40625 0 \nz\n\" id=\"DejaVuSans-49\"/>\n      </defs>\n      <g transform=\"translate(69.27025 242.811156)scale(0.1 -0.1)\">\n       <use xlink:href=\"#DejaVuSans-49\"/>\n       <use x=\"63.623047\" xlink:href=\"#DejaVuSans-48\"/>\n       <use x=\"127.246094\" xlink:href=\"#DejaVuSans-48\"/>\n      </g>\n     </g>\n    </g>\n    <g id=\"xtick_3\">\n     <g id=\"line2d_3\">\n      <g>\n       <use style=\"stroke:#000000;stroke-width:0.8;\" x=\"124.114\" xlink:href=\"#m73adbce145\" y=\"228.212719\"/>\n      </g>\n     </g>\n     <g id=\"text_3\">\n      <!-- 200 -->\n      <defs>\n       <path d=\"M 19.1875 8.296875 \nL 53.609375 8.296875 \nL 53.609375 0 \nL 7.328125 0 \nL 7.328125 8.296875 \nQ 12.9375 14.109375 22.625 23.890625 \nQ 32.328125 33.6875 34.8125 36.53125 \nQ 39.546875 41.84375 41.421875 45.53125 \nQ 43.3125 49.21875 43.3125 52.78125 \nQ 43.3125 58.59375 39.234375 62.25 \nQ 35.15625 65.921875 28.609375 65.921875 \nQ 23.96875 65.921875 18.8125 64.3125 \nQ 13.671875 62.703125 7.8125 59.421875 \nL 7.8125 69.390625 \nQ 13.765625 71.78125 18.9375 73 \nQ 24.125 74.21875 28.421875 74.21875 \nQ 39.75 74.21875 46.484375 68.546875 \nQ 53.21875 62.890625 53.21875 53.421875 \nQ 53.21875 48.921875 51.53125 44.890625 \nQ 49.859375 40.875 45.40625 35.40625 \nQ 44.1875 33.984375 37.640625 27.21875 \nQ 31.109375 20.453125 19.1875 8.296875 \nz\n\" id=\"DejaVuSans-50\"/>\n      </defs>\n      <g transform=\"translate(114.57025 242.811156)scale(0.1 -0.1)\">\n       <use xlink:href=\"#DejaVuSans-50\"/>\n       <use x=\"63.623047\" xlink:href=\"#DejaVuSans-48\"/>\n       <use x=\"127.246094\" xlink:href=\"#DejaVuSans-48\"/>\n      </g>\n     </g>\n    </g>\n    <g id=\"xtick_4\">\n     <g id=\"line2d_4\">\n      <g>\n       <use style=\"stroke:#000000;stroke-width:0.8;\" x=\"169.414\" xlink:href=\"#m73adbce145\" y=\"228.212719\"/>\n      </g>\n     </g>\n     <g id=\"text_4\">\n      <!-- 300 -->\n      <defs>\n       <path d=\"M 40.578125 39.3125 \nQ 47.65625 37.796875 51.625 33 \nQ 55.609375 28.21875 55.609375 21.1875 \nQ 55.609375 10.40625 48.1875 4.484375 \nQ 40.765625 -1.421875 27.09375 -1.421875 \nQ 22.515625 -1.421875 17.65625 -0.515625 \nQ 12.796875 0.390625 7.625 2.203125 \nL 7.625 11.71875 \nQ 11.71875 9.328125 16.59375 8.109375 \nQ 21.484375 6.890625 26.8125 6.890625 \nQ 36.078125 6.890625 40.9375 10.546875 \nQ 45.796875 14.203125 45.796875 21.1875 \nQ 45.796875 27.640625 41.28125 31.265625 \nQ 36.765625 34.90625 28.71875 34.90625 \nL 20.21875 34.90625 \nL 20.21875 43.015625 \nL 29.109375 43.015625 \nQ 36.375 43.015625 40.234375 45.921875 \nQ 44.09375 48.828125 44.09375 54.296875 \nQ 44.09375 59.90625 40.109375 62.90625 \nQ 36.140625 65.921875 28.71875 65.921875 \nQ 24.65625 65.921875 20.015625 65.03125 \nQ 15.375 64.15625 9.8125 62.3125 \nL 9.8125 71.09375 \nQ 15.4375 72.65625 20.34375 73.4375 \nQ 25.25 74.21875 29.59375 74.21875 \nQ 40.828125 74.21875 47.359375 69.109375 \nQ 53.90625 64.015625 53.90625 55.328125 \nQ 53.90625 49.265625 50.4375 45.09375 \nQ 46.96875 40.921875 40.578125 39.3125 \nz\n\" id=\"DejaVuSans-51\"/>\n      </defs>\n      <g transform=\"translate(159.87025 242.811156)scale(0.1 -0.1)\">\n       <use xlink:href=\"#DejaVuSans-51\"/>\n       <use x=\"63.623047\" xlink:href=\"#DejaVuSans-48\"/>\n       <use x=\"127.246094\" xlink:href=\"#DejaVuSans-48\"/>\n      </g>\n     </g>\n    </g>\n    <g id=\"xtick_5\">\n     <g id=\"line2d_5\">\n      <g>\n       <use style=\"stroke:#000000;stroke-width:0.8;\" x=\"214.714\" xlink:href=\"#m73adbce145\" y=\"228.212719\"/>\n      </g>\n     </g>\n     <g id=\"text_5\">\n      <!-- 400 -->\n      <defs>\n       <path d=\"M 37.796875 64.3125 \nL 12.890625 25.390625 \nL 37.796875 25.390625 \nz\nM 35.203125 72.90625 \nL 47.609375 72.90625 \nL 47.609375 25.390625 \nL 58.015625 25.390625 \nL 58.015625 17.1875 \nL 47.609375 17.1875 \nL 47.609375 0 \nL 37.796875 0 \nL 37.796875 17.1875 \nL 4.890625 17.1875 \nL 4.890625 26.703125 \nz\n\" id=\"DejaVuSans-52\"/>\n      </defs>\n      <g transform=\"translate(205.17025 242.811156)scale(0.1 -0.1)\">\n       <use xlink:href=\"#DejaVuSans-52\"/>\n       <use x=\"63.623047\" xlink:href=\"#DejaVuSans-48\"/>\n       <use x=\"127.246094\" xlink:href=\"#DejaVuSans-48\"/>\n      </g>\n     </g>\n    </g>\n    <g id=\"xtick_6\">\n     <g id=\"line2d_6\">\n      <g>\n       <use style=\"stroke:#000000;stroke-width:0.8;\" x=\"260.014\" xlink:href=\"#m73adbce145\" y=\"228.212719\"/>\n      </g>\n     </g>\n     <g id=\"text_6\">\n      <!-- 500 -->\n      <defs>\n       <path d=\"M 10.796875 72.90625 \nL 49.515625 72.90625 \nL 49.515625 64.59375 \nL 19.828125 64.59375 \nL 19.828125 46.734375 \nQ 21.96875 47.46875 24.109375 47.828125 \nQ 26.265625 48.1875 28.421875 48.1875 \nQ 40.625 48.1875 47.75 41.5 \nQ 54.890625 34.8125 54.890625 23.390625 \nQ 54.890625 11.625 47.5625 5.09375 \nQ 40.234375 -1.421875 26.90625 -1.421875 \nQ 22.3125 -1.421875 17.546875 -0.640625 \nQ 12.796875 0.140625 7.71875 1.703125 \nL 7.71875 11.625 \nQ 12.109375 9.234375 16.796875 8.0625 \nQ 21.484375 6.890625 26.703125 6.890625 \nQ 35.15625 6.890625 40.078125 11.328125 \nQ 45.015625 15.765625 45.015625 23.390625 \nQ 45.015625 31 40.078125 35.4375 \nQ 35.15625 39.890625 26.703125 39.890625 \nQ 22.75 39.890625 18.8125 39.015625 \nQ 14.890625 38.140625 10.796875 36.28125 \nz\n\" id=\"DejaVuSans-53\"/>\n      </defs>\n      <g transform=\"translate(250.47025 242.811156)scale(0.1 -0.1)\">\n       <use xlink:href=\"#DejaVuSans-53\"/>\n       <use x=\"63.623047\" xlink:href=\"#DejaVuSans-48\"/>\n       <use x=\"127.246094\" xlink:href=\"#DejaVuSans-48\"/>\n      </g>\n     </g>\n    </g>\n    <g id=\"xtick_7\">\n     <g id=\"line2d_7\">\n      <g>\n       <use style=\"stroke:#000000;stroke-width:0.8;\" x=\"305.314\" xlink:href=\"#m73adbce145\" y=\"228.212719\"/>\n      </g>\n     </g>\n     <g id=\"text_7\">\n      <!-- 600 -->\n      <defs>\n       <path d=\"M 33.015625 40.375 \nQ 26.375 40.375 22.484375 35.828125 \nQ 18.609375 31.296875 18.609375 23.390625 \nQ 18.609375 15.53125 22.484375 10.953125 \nQ 26.375 6.390625 33.015625 6.390625 \nQ 39.65625 6.390625 43.53125 10.953125 \nQ 47.40625 15.53125 47.40625 23.390625 \nQ 47.40625 31.296875 43.53125 35.828125 \nQ 39.65625 40.375 33.015625 40.375 \nz\nM 52.59375 71.296875 \nL 52.59375 62.3125 \nQ 48.875 64.0625 45.09375 64.984375 \nQ 41.3125 65.921875 37.59375 65.921875 \nQ 27.828125 65.921875 22.671875 59.328125 \nQ 17.53125 52.734375 16.796875 39.40625 \nQ 19.671875 43.65625 24.015625 45.921875 \nQ 28.375 48.1875 33.59375 48.1875 \nQ 44.578125 48.1875 50.953125 41.515625 \nQ 57.328125 34.859375 57.328125 23.390625 \nQ 57.328125 12.15625 50.6875 5.359375 \nQ 44.046875 -1.421875 33.015625 -1.421875 \nQ 20.359375 -1.421875 13.671875 8.265625 \nQ 6.984375 17.96875 6.984375 36.375 \nQ 6.984375 53.65625 15.1875 63.9375 \nQ 23.390625 74.21875 37.203125 74.21875 \nQ 40.921875 74.21875 44.703125 73.484375 \nQ 48.484375 72.75 52.59375 71.296875 \nz\n\" id=\"DejaVuSans-54\"/>\n      </defs>\n      <g transform=\"translate(295.77025 242.811156)scale(0.1 -0.1)\">\n       <use xlink:href=\"#DejaVuSans-54\"/>\n       <use x=\"63.623047\" xlink:href=\"#DejaVuSans-48\"/>\n       <use x=\"127.246094\" xlink:href=\"#DejaVuSans-48\"/>\n      </g>\n     </g>\n    </g>\n   </g>\n   <g id=\"matplotlib.axis_2\">\n    <g id=\"ytick_1\">\n     <g id=\"line2d_8\">\n      <defs>\n       <path d=\"M 0 0 \nL -3.5 0 \n\" id=\"m72674227e9\" style=\"stroke:#000000;stroke-width:0.8;\"/>\n      </defs>\n      <g>\n       <use style=\"stroke:#000000;stroke-width:0.8;\" x=\"33.2875\" xlink:href=\"#m72674227e9\" y=\"10.999219\"/>\n      </g>\n     </g>\n     <g id=\"text_8\">\n      <!-- 0 -->\n      <g transform=\"translate(19.925 14.798437)scale(0.1 -0.1)\">\n       <use xlink:href=\"#DejaVuSans-48\"/>\n      </g>\n     </g>\n    </g>\n    <g id=\"ytick_2\">\n     <g id=\"line2d_9\">\n      <g>\n       <use style=\"stroke:#000000;stroke-width:0.8;\" x=\"33.2875\" xlink:href=\"#m72674227e9\" y=\"56.299219\"/>\n      </g>\n     </g>\n     <g id=\"text_9\">\n      <!-- 100 -->\n      <g transform=\"translate(7.2 60.098437)scale(0.1 -0.1)\">\n       <use xlink:href=\"#DejaVuSans-49\"/>\n       <use x=\"63.623047\" xlink:href=\"#DejaVuSans-48\"/>\n       <use x=\"127.246094\" xlink:href=\"#DejaVuSans-48\"/>\n      </g>\n     </g>\n    </g>\n    <g id=\"ytick_3\">\n     <g id=\"line2d_10\">\n      <g>\n       <use style=\"stroke:#000000;stroke-width:0.8;\" x=\"33.2875\" xlink:href=\"#m72674227e9\" y=\"101.599219\"/>\n      </g>\n     </g>\n     <g id=\"text_10\">\n      <!-- 200 -->\n      <g transform=\"translate(7.2 105.398437)scale(0.1 -0.1)\">\n       <use xlink:href=\"#DejaVuSans-50\"/>\n       <use x=\"63.623047\" xlink:href=\"#DejaVuSans-48\"/>\n       <use x=\"127.246094\" xlink:href=\"#DejaVuSans-48\"/>\n      </g>\n     </g>\n    </g>\n    <g id=\"ytick_4\">\n     <g id=\"line2d_11\">\n      <g>\n       <use style=\"stroke:#000000;stroke-width:0.8;\" x=\"33.2875\" xlink:href=\"#m72674227e9\" y=\"146.899219\"/>\n      </g>\n     </g>\n     <g id=\"text_11\">\n      <!-- 300 -->\n      <g transform=\"translate(7.2 150.698437)scale(0.1 -0.1)\">\n       <use xlink:href=\"#DejaVuSans-51\"/>\n       <use x=\"63.623047\" xlink:href=\"#DejaVuSans-48\"/>\n       <use x=\"127.246094\" xlink:href=\"#DejaVuSans-48\"/>\n      </g>\n     </g>\n    </g>\n    <g id=\"ytick_5\">\n     <g id=\"line2d_12\">\n      <g>\n       <use style=\"stroke:#000000;stroke-width:0.8;\" x=\"33.2875\" xlink:href=\"#m72674227e9\" y=\"192.199219\"/>\n      </g>\n     </g>\n     <g id=\"text_12\">\n      <!-- 400 -->\n      <g transform=\"translate(7.2 195.998437)scale(0.1 -0.1)\">\n       <use xlink:href=\"#DejaVuSans-52\"/>\n       <use x=\"63.623047\" xlink:href=\"#DejaVuSans-48\"/>\n       <use x=\"127.246094\" xlink:href=\"#DejaVuSans-48\"/>\n      </g>\n     </g>\n    </g>\n   </g>\n   <g id=\"patch_3\">\n    <path d=\"M 33.2875 228.212719 \nL 33.2875 10.772719 \n\" style=\"fill:none;stroke:#000000;stroke-linecap:square;stroke-linejoin:miter;stroke-width:0.8;\"/>\n   </g>\n   <g id=\"patch_4\">\n    <path d=\"M 323.2075 228.212719 \nL 323.2075 10.772719 \n\" style=\"fill:none;stroke:#000000;stroke-linecap:square;stroke-linejoin:miter;stroke-width:0.8;\"/>\n   </g>\n   <g id=\"patch_5\">\n    <path d=\"M 33.2875 228.212719 \nL 323.2075 228.212719 \n\" style=\"fill:none;stroke:#000000;stroke-linecap:square;stroke-linejoin:miter;stroke-width:0.8;\"/>\n   </g>\n   <g id=\"patch_6\">\n    <path d=\"M 33.2875 10.772719 \nL 323.2075 10.772719 \n\" style=\"fill:none;stroke:#000000;stroke-linecap:square;stroke-linejoin:miter;stroke-width:0.8;\"/>\n   </g>\n  </g>\n </g>\n <defs>\n  <clipPath id=\"pe6406ea99c\">\n   <rect height=\"217.44\" width=\"289.92\" x=\"33.2875\" y=\"10.772719\"/>\n  </clipPath>\n </defs>\n</svg>\n",
      "image/png": "[encoded data removed]"
     },
     "metadata": {
      "needs_background": "light"
     }
    }
   ],
   "source": [
    "img = cv2.imread(IMAGE_PATH)\n",
    "image_np = np.array(img)\n",
    "\n",
    "input_tensor = tf.convert_to_tensor(np.expand_dims(image_np, 0), dtype=tf.float32)\n",
    "detections = detect_fn(input_tensor)\n",
    "\n",
    "num_detections = int(detections.pop('num_detections'))\n",
    "detections = {key: value[0, :num_detections].numpy()\n",
    "              for key, value in detections.items()}\n",
    "detections['num_detections'] = num_detections\n",
    "\n",
    "# detection_classes should be ints.\n",
    "detections['detection_classes'] = detections['detection_classes'].astype(np.int64)\n",
    "\n",
    "label_id_offset = 1\n",
    "image_np_with_detections = image_np.copy()\n",
    "\n",
    "viz_utils.visualize_boxes_and_labels_on_image_array(\n",
    "            image_np_with_detections,\n",
    "            detections['detection_boxes'],\n",
    "            detections['detection_classes']+label_id_offset,\n",
    "            detections['detection_scores'],\n",
    "            category_index,\n",
    "            use_normalized_coordinates=True,\n",
    "            max_boxes_to_draw=5,\n",
    "            min_score_thresh=.8,\n",
    "            agnostic_mode=False)\n",
    "\n",
    "plt.imshow(cv2.cvtColor(image_np_with_detections, cv2.COLOR_BGR2RGB))\n",
    "plt.show()"
   ]
  },
  {
   "cell_type": "code",
   "execution_count": 61,
   "metadata": {},
   "outputs": [
    {
     "output_type": "stream",
     "name": "stderr",
     "text": [
      "2021-07-21 14:37:12.408849: I tensorflow/compiler/mlir/mlir_graph_optimization_pass.cc:176] None of the MLIR Optimization Passes are enabled (registered 2)\n",
      "2021-07-21 14:37:12.451433: I tensorflow/core/platform/profile_utils/cpu_utils.cc:114] CPU Frequency: 1497600000 Hz\n",
      "QObject::moveToThread: Current thread (0x55b6fbafba60) is not the object's thread (0x55b6fb174a20).\n",
      "Cannot move to target thread (0x55b6fbafba60)\n",
      "\n",
      "QObject::moveToThread: Current thread (0x55b6fbafba60) is not the object's thread (0x55b6fb174a20).\n",
      "Cannot move to target thread (0x55b6fbafba60)\n",
      "\n",
      "QObject::moveToThread: Current thread (0x55b6fbafba60) is not the object's thread (0x55b6fb174a20).\n",
      "Cannot move to target thread (0x55b6fbafba60)\n",
      "\n",
      "QObject::moveToThread: Current thread (0x55b6fbafba60) is not the object's thread (0x55b6fb174a20).\n",
      "Cannot move to target thread (0x55b6fbafba60)\n",
      "\n",
      "QObject::moveToThread: Current thread (0x55b6fbafba60) is not the object's thread (0x55b6fb174a20).\n",
      "Cannot move to target thread (0x55b6fbafba60)\n",
      "\n",
      "QObject::moveToThread: Current thread (0x55b6fbafba60) is not the object's thread (0x55b6fb174a20).\n",
      "Cannot move to target thread (0x55b6fbafba60)\n",
      "\n",
      "QObject::moveToThread: Current thread (0x55b6fbafba60) is not the object's thread (0x55b6fb174a20).\n",
      "Cannot move to target thread (0x55b6fbafba60)\n",
      "\n",
      "QObject::moveToThread: Current thread (0x55b6fbafba60) is not the object's thread (0x55b6fb174a20).\n",
      "Cannot move to target thread (0x55b6fbafba60)\n",
      "\n",
      "QObject::moveToThread: Current thread (0x55b6fbafba60) is not the object's thread (0x55b6fb174a20).\n",
      "Cannot move to target thread (0x55b6fbafba60)\n",
      "\n",
      "QObject::moveToThread: Current thread (0x55b6fbafba60) is not the object's thread (0x55b6fb174a20).\n",
      "Cannot move to target thread (0x55b6fbafba60)\n",
      "\n",
      "QObject::moveToThread: Current thread (0x55b6fbafba60) is not the object's thread (0x55b6fb174a20).\n",
      "Cannot move to target thread (0x55b6fbafba60)\n",
      "\n",
      "QObject::moveToThread: Current thread (0x55b6fbafba60) is not the object's thread (0x55b6fb174a20).\n",
      "Cannot move to target thread (0x55b6fbafba60)\n",
      "\n",
      "QObject::moveToThread: Current thread (0x55b6fbafba60) is not the object's thread (0x55b6fb174a20).\n",
      "Cannot move to target thread (0x55b6fbafba60)\n",
      "\n",
      "QObject::moveToThread: Current thread (0x55b6fbafba60) is not the object's thread (0x55b6fb174a20).\n",
      "Cannot move to target thread (0x55b6fbafba60)\n",
      "\n",
      "QObject::moveToThread: Current thread (0x55b6fbafba60) is not the object's thread (0x55b6fb174a20).\n",
      "Cannot move to target thread (0x55b6fbafba60)\n",
      "\n",
      "QObject::moveToThread: Current thread (0x55b6fbafba60) is not the object's thread (0x55b6fb174a20).\n",
      "Cannot move to target thread (0x55b6fbafba60)\n",
      "\n",
      "QObject::moveToThread: Current thread (0x55b6fbafba60) is not the object's thread (0x55b6fb174a20).\n",
      "Cannot move to target thread (0x55b6fbafba60)\n",
      "\n",
      "QObject::moveToThread: Current thread (0x55b6fbafba60) is not the object's thread (0x55b6fb174a20).\n",
      "Cannot move to target thread (0x55b6fbafba60)\n",
      "\n",
      "QObject::moveToThread: Current thread (0x55b6fbafba60) is not the object's thread (0x55b6fb174a20).\n",
      "Cannot move to target thread (0x55b6fbafba60)\n",
      "\n",
      "QObject::moveToThread: Current thread (0x55b6fbafba60) is not the object's thread (0x55b6fb174a20).\n",
      "Cannot move to target thread (0x55b6fbafba60)\n",
      "\n",
      "QObject::moveToThread: Current thread (0x55b6fbafba60) is not the object's thread (0x55b6fb174a20).\n",
      "Cannot move to target thread (0x55b6fbafba60)\n",
      "\n",
      "QObject::moveToThread: Current thread (0x55b6fbafba60) is not the object's thread (0x55b6fb174a20).\n",
      "Cannot move to target thread (0x55b6fbafba60)\n",
      "\n",
      "QObject::moveToThread: Current thread (0x55b6fbafba60) is not the object's thread (0x55b6fb174a20).\n",
      "Cannot move to target thread (0x55b6fbafba60)\n",
      "\n",
      "QObject::moveToThread: Current thread (0x55b6fbafba60) is not the object's thread (0x55b6fb174a20).\n",
      "Cannot move to target thread (0x55b6fbafba60)\n",
      "\n",
      "QObject::moveToThread: Current thread (0x55b6fbafba60) is not the object's thread (0x55b6fb174a20).\n",
      "Cannot move to target thread (0x55b6fbafba60)\n",
      "\n",
      "QObject::moveToThread: Current thread (0x55b6fbafba60) is not the object's thread (0x55b6fb174a20).\n",
      "Cannot move to target thread (0x55b6fbafba60)\n",
      "\n",
      "QObject::moveToThread: Current thread (0x55b6fbafba60) is not the object's thread (0x55b6fb174a20).\n",
      "Cannot move to target thread (0x55b6fbafba60)\n",
      "\n",
      "QObject::moveToThread: Current thread (0x55b6fbafba60) is not the object's thread (0x55b6fb174a20).\n",
      "Cannot move to target thread (0x55b6fbafba60)\n",
      "\n",
      "QObject::moveToThread: Current thread (0x55b6fbafba60) is not the object's thread (0x55b6fb174a20).\n",
      "Cannot move to target thread (0x55b6fbafba60)\n",
      "\n",
      "QObject::moveToThread: Current thread (0x55b6fbafba60) is not the object's thread (0x55b6fb174a20).\n",
      "Cannot move to target thread (0x55b6fbafba60)\n",
      "\n",
      "QObject::moveToThread: Current thread (0x55b6fbafba60) is not the object's thread (0x55b6fb174a20).\n",
      "Cannot move to target thread (0x55b6fbafba60)\n",
      "\n",
      "QObject::moveToThread: Current thread (0x55b6fbafba60) is not the object's thread (0x55b6fb174a20).\n",
      "Cannot move to target thread (0x55b6fbafba60)\n",
      "\n",
      "QObject::moveToThread: Current thread (0x55b6fbafba60) is not the object's thread (0x55b6fb174a20).\n",
      "Cannot move to target thread (0x55b6fbafba60)\n",
      "\n",
      "QObject::moveToThread: Current thread (0x55b6fbafba60) is not the object's thread (0x55b6fb174a20).\n",
      "Cannot move to target thread (0x55b6fbafba60)\n",
      "\n",
      "QObject::moveToThread: Current thread (0x55b6fbafba60) is not the object's thread (0x55b6fb174a20).\n",
      "Cannot move to target thread (0x55b6fbafba60)\n",
      "\n",
      "QObject::moveToThread: Current thread (0x55b6fbafba60) is not the object's thread (0x55b6fb174a20).\n",
      "Cannot move to target thread (0x55b6fbafba60)\n",
      "\n",
      "QObject::moveToThread: Current thread (0x55b6fbafba60) is not the object's thread (0x55b6fb174a20).\n",
      "Cannot move to target thread (0x55b6fbafba60)\n",
      "\n",
      "QObject::moveToThread: Current thread (0x55b6fbafba60) is not the object's thread (0x55b6fb174a20).\n",
      "Cannot move to target thread (0x55b6fbafba60)\n",
      "\n",
      "QObject::moveToThread: Current thread (0x55b6fbafba60) is not the object's thread (0x55b6fb174a20).\n",
      "Cannot move to target thread (0x55b6fbafba60)\n",
      "\n",
      "QObject::moveToThread: Current thread (0x55b6fbafba60) is not the object's thread (0x55b6fb174a20).\n",
      "Cannot move to target thread (0x55b6fbafba60)\n",
      "\n",
      "QObject::moveToThread: Current thread (0x55b6fbafba60) is not the object's thread (0x55b6fb174a20).\n",
      "Cannot move to target thread (0x55b6fbafba60)\n",
      "\n",
      "QObject::moveToThread: Current thread (0x55b6fbafba60) is not the object's thread (0x55b6fb174a20).\n",
      "Cannot move to target thread (0x55b6fbafba60)\n",
      "\n",
      "QObject::moveToThread: Current thread (0x55b6fbafba60) is not the object's thread (0x55b6fb174a20).\n",
      "Cannot move to target thread (0x55b6fbafba60)\n",
      "\n",
      "QObject::moveToThread: Current thread (0x55b6fbafba60) is not the object's thread (0x55b6fb174a20).\n",
      "Cannot move to target thread (0x55b6fbafba60)\n",
      "\n",
      "QObject::moveToThread: Current thread (0x55b6fbafba60) is not the object's thread (0x55b6fb174a20).\n",
      "Cannot move to target thread (0x55b6fbafba60)\n",
      "\n",
      "QObject::moveToThread: Current thread (0x55b6fbafba60) is not the object's thread (0x55b6fb174a20).\n",
      "Cannot move to target thread (0x55b6fbafba60)\n",
      "\n",
      "QObject::moveToThread: Current thread (0x55b6fbafba60) is not the object's thread (0x55b6fb174a20).\n",
      "Cannot move to target thread (0x55b6fbafba60)\n",
      "\n",
      "QObject::moveToThread: Current thread (0x55b6fbafba60) is not the object's thread (0x55b6fb174a20).\n",
      "Cannot move to target thread (0x55b6fbafba60)\n",
      "\n",
      "QObject::moveToThread: Current thread (0x55b6fbafba60) is not the object's thread (0x55b6fb174a20).\n",
      "Cannot move to target thread (0x55b6fbafba60)\n",
      "\n",
      "QObject::moveToThread: Current thread (0x55b6fbafba60) is not the object's thread (0x55b6fb174a20).\n",
      "Cannot move to target thread (0x55b6fbafba60)\n",
      "\n",
      "QObject::moveToThread: Current thread (0x55b6fbafba60) is not the object's thread (0x55b6fb174a20).\n",
      "Cannot move to target thread (0x55b6fbafba60)\n",
      "\n",
      "QObject::moveToThread: Current thread (0x55b6fbafba60) is not the object's thread (0x55b6fb174a20).\n",
      "Cannot move to target thread (0x55b6fbafba60)\n",
      "\n",
      "QObject::moveToThread: Current thread (0x55b6fbafba60) is not the object's thread (0x55b6fb174a20).\n",
      "Cannot move to target thread (0x55b6fbafba60)\n",
      "\n",
      "QObject::moveToThread: Current thread (0x55b6fbafba60) is not the object's thread (0x55b6fb174a20).\n",
      "Cannot move to target thread (0x55b6fbafba60)\n",
      "\n",
      "QObject::moveToThread: Current thread (0x55b6fbafba60) is not the object's thread (0x55b6fb174a20).\n",
      "Cannot move to target thread (0x55b6fbafba60)\n",
      "\n",
      "QObject::moveToThread: Current thread (0x55b6fbafba60) is not the object's thread (0x55b6fb174a20).\n",
      "Cannot move to target thread (0x55b6fbafba60)\n",
      "\n",
      "QObject::moveToThread: Current thread (0x55b6fbafba60) is not the object's thread (0x55b6fb174a20).\n",
      "Cannot move to target thread (0x55b6fbafba60)\n",
      "\n",
      "QObject::moveToThread: Current thread (0x55b6fbafba60) is not the object's thread (0x55b6fb174a20).\n",
      "Cannot move to target thread (0x55b6fbafba60)\n",
      "\n",
      "QObject::moveToThread: Current thread (0x55b6fbafba60) is not the object's thread (0x55b6fb174a20).\n",
      "Cannot move to target thread (0x55b6fbafba60)\n",
      "\n",
      "QObject::moveToThread: Current thread (0x55b6fbafba60) is not the object's thread (0x55b6fb174a20).\n",
      "Cannot move to target thread (0x55b6fbafba60)\n",
      "\n",
      "QObject::moveToThread: Current thread (0x55b6fbafba60) is not the object's thread (0x55b6fb174a20).\n",
      "Cannot move to target thread (0x55b6fbafba60)\n",
      "\n",
      "QObject::moveToThread: Current thread (0x55b6fbafba60) is not the object's thread (0x55b6fb174a20).\n",
      "Cannot move to target thread (0x55b6fbafba60)\n",
      "\n",
      "QObject::moveToThread: Current thread (0x55b6fbafba60) is not the object's thread (0x55b6fb174a20).\n",
      "Cannot move to target thread (0x55b6fbafba60)\n",
      "\n",
      "QObject::moveToThread: Current thread (0x55b6fbafba60) is not the object's thread (0x55b6fb174a20).\n",
      "Cannot move to target thread (0x55b6fbafba60)\n",
      "\n",
      "QObject::moveToThread: Current thread (0x55b6fbafba60) is not the object's thread (0x55b6fb174a20).\n",
      "Cannot move to target thread (0x55b6fbafba60)\n",
      "\n",
      "QObject::moveToThread: Current thread (0x55b6fbafba60) is not the object's thread (0x55b6fb174a20).\n",
      "Cannot move to target thread (0x55b6fbafba60)\n",
      "\n",
      "QObject::moveToThread: Current thread (0x55b6fbafba60) is not the object's thread (0x55b6fb174a20).\n",
      "Cannot move to target thread (0x55b6fbafba60)\n",
      "\n",
      "QObject::moveToThread: Current thread (0x55b6fbafba60) is not the object's thread (0x55b6fb174a20).\n",
      "Cannot move to target thread (0x55b6fbafba60)\n",
      "\n",
      "QObject::moveToThread: Current thread (0x55b6fbafba60) is not the object's thread (0x55b6fb174a20).\n",
      "Cannot move to target thread (0x55b6fbafba60)\n",
      "\n",
      "QObject::moveToThread: Current thread (0x55b6fbafba60) is not the object's thread (0x55b6fb174a20).\n",
      "Cannot move to target thread (0x55b6fbafba60)\n",
      "\n",
      "QObject::moveToThread: Current thread (0x55b6fbafba60) is not the object's thread (0x55b6fb174a20).\n",
      "Cannot move to target thread (0x55b6fbafba60)\n",
      "\n",
      "QObject::moveToThread: Current thread (0x55b6fbafba60) is not the object's thread (0x55b6fb174a20).\n",
      "Cannot move to target thread (0x55b6fbafba60)\n",
      "\n",
      "QObject::moveToThread: Current thread (0x55b6fbafba60) is not the object's thread (0x55b6fb174a20).\n",
      "Cannot move to target thread (0x55b6fbafba60)\n",
      "\n",
      "QObject::moveToThread: Current thread (0x55b6fbafba60) is not the object's thread (0x55b6fb174a20).\n",
      "Cannot move to target thread (0x55b6fbafba60)\n",
      "\n",
      "QObject::moveToThread: Current thread (0x55b6fbafba60) is not the object's thread (0x55b6fb174a20).\n",
      "Cannot move to target thread (0x55b6fbafba60)\n",
      "\n",
      "QObject::moveToThread: Current thread (0x55b6fbafba60) is not the object's thread (0x55b6fb174a20).\n",
      "Cannot move to target thread (0x55b6fbafba60)\n",
      "\n",
      "QObject::moveToThread: Current thread (0x55b6fbafba60) is not the object's thread (0x55b6fb174a20).\n",
      "Cannot move to target thread (0x55b6fbafba60)\n",
      "\n",
      "QObject::moveToThread: Current thread (0x55b6fbafba60) is not the object's thread (0x55b6fb174a20).\n",
      "Cannot move to target thread (0x55b6fbafba60)\n",
      "\n",
      "QObject::moveToThread: Current thread (0x55b6fbafba60) is not the object's thread (0x55b6fb174a20).\n",
      "Cannot move to target thread (0x55b6fbafba60)\n",
      "\n",
      "QObject::moveToThread: Current thread (0x55b6fbafba60) is not the object's thread (0x55b6fb174a20).\n",
      "Cannot move to target thread (0x55b6fbafba60)\n",
      "\n",
      "QObject::moveToThread: Current thread (0x55b6fbafba60) is not the object's thread (0x55b6fb174a20).\n",
      "Cannot move to target thread (0x55b6fbafba60)\n",
      "\n",
      "QObject::moveToThread: Current thread (0x55b6fbafba60) is not the object's thread (0x55b6fb174a20).\n",
      "Cannot move to target thread (0x55b6fbafba60)\n",
      "\n",
      "QObject::moveToThread: Current thread (0x55b6fbafba60) is not the object's thread (0x55b6fb174a20).\n",
      "Cannot move to target thread (0x55b6fbafba60)\n",
      "\n",
      "QObject::moveToThread: Current thread (0x55b6fbafba60) is not the object's thread (0x55b6fb174a20).\n",
      "Cannot move to target thread (0x55b6fbafba60)\n",
      "\n",
      "QObject::moveToThread: Current thread (0x55b6fbafba60) is not the object's thread (0x55b6fb174a20).\n",
      "Cannot move to target thread (0x55b6fbafba60)\n",
      "\n",
      "QObject::moveToThread: Current thread (0x55b6fbafba60) is not the object's thread (0x55b6fb174a20).\n",
      "Cannot move to target thread (0x55b6fbafba60)\n",
      "\n",
      "QObject::moveToThread: Current thread (0x55b6fbafba60) is not the object's thread (0x55b6fb174a20).\n",
      "Cannot move to target thread (0x55b6fbafba60)\n",
      "\n",
      "QObject::moveToThread: Current thread (0x55b6fbafba60) is not the object's thread (0x55b6fb174a20).\n",
      "Cannot move to target thread (0x55b6fbafba60)\n",
      "\n",
      "QObject::moveToThread: Current thread (0x55b6fbafba60) is not the object's thread (0x55b6fb174a20).\n",
      "Cannot move to target thread (0x55b6fbafba60)\n",
      "\n",
      "QObject::moveToThread: Current thread (0x55b6fbafba60) is not the object's thread (0x55b6fb174a20).\n",
      "Cannot move to target thread (0x55b6fbafba60)\n",
      "\n",
      "QObject::moveToThread: Current thread (0x55b6fbafba60) is not the object's thread (0x55b6fb174a20).\n",
      "Cannot move to target thread (0x55b6fbafba60)\n",
      "\n",
      "QObject::moveToThread: Current thread (0x55b6fbafba60) is not the object's thread (0x55b6fb174a20).\n",
      "Cannot move to target thread (0x55b6fbafba60)\n",
      "\n",
      "QObject::moveToThread: Current thread (0x55b6fbafba60) is not the object's thread (0x55b6fb174a20).\n",
      "Cannot move to target thread (0x55b6fbafba60)\n",
      "\n",
      "QObject::moveToThread: Current thread (0x55b6fbafba60) is not the object's thread (0x55b6fb174a20).\n",
      "Cannot move to target thread (0x55b6fbafba60)\n",
      "\n",
      "QObject::moveToThread: Current thread (0x55b6fbafba60) is not the object's thread (0x55b6fb174a20).\n",
      "Cannot move to target thread (0x55b6fbafba60)\n",
      "\n",
      "QObject::moveToThread: Current thread (0x55b6fbafba60) is not the object's thread (0x55b6fb174a20).\n",
      "Cannot move to target thread (0x55b6fbafba60)\n",
      "\n",
      "QObject::moveToThread: Current thread (0x55b6fbafba60) is not the object's thread (0x55b6fb174a20).\n",
      "Cannot move to target thread (0x55b6fbafba60)\n",
      "\n",
      "QObject::moveToThread: Current thread (0x55b6fbafba60) is not the object's thread (0x55b6fb174a20).\n",
      "Cannot move to target thread (0x55b6fbafba60)\n",
      "\n",
      "QObject::moveToThread: Current thread (0x55b6fbafba60) is not the object's thread (0x55b6fb174a20).\n",
      "Cannot move to target thread (0x55b6fbafba60)\n",
      "\n",
      "QObject::moveToThread: Current thread (0x55b6fbafba60) is not the object's thread (0x55b6fb174a20).\n",
      "Cannot move to target thread (0x55b6fbafba60)\n",
      "\n",
      "QObject::moveToThread: Current thread (0x55b6fbafba60) is not the object's thread (0x55b6fb174a20).\n",
      "Cannot move to target thread (0x55b6fbafba60)\n",
      "\n",
      "QObject::moveToThread: Current thread (0x55b6fbafba60) is not the object's thread (0x55b6fb174a20).\n",
      "Cannot move to target thread (0x55b6fbafba60)\n",
      "\n",
      "QObject::moveToThread: Current thread (0x55b6fbafba60) is not the object's thread (0x55b6fb174a20).\n",
      "Cannot move to target thread (0x55b6fbafba60)\n",
      "\n",
      "QObject::moveToThread: Current thread (0x55b6fbafba60) is not the object's thread (0x55b6fb174a20).\n",
      "Cannot move to target thread (0x55b6fbafba60)\n",
      "\n",
      "QObject::moveToThread: Current thread (0x55b6fbafba60) is not the object's thread (0x55b6fb174a20).\n",
      "Cannot move to target thread (0x55b6fbafba60)\n",
      "\n",
      "QObject::moveToThread: Current thread (0x55b6fbafba60) is not the object's thread (0x55b6fb174a20).\n",
      "Cannot move to target thread (0x55b6fbafba60)\n",
      "\n",
      "QObject::moveToThread: Current thread (0x55b6fbafba60) is not the object's thread (0x55b6fb174a20).\n",
      "Cannot move to target thread (0x55b6fbafba60)\n",
      "\n",
      "QObject::moveToThread: Current thread (0x55b6fbafba60) is not the object's thread (0x55b6fb174a20).\n",
      "Cannot move to target thread (0x55b6fbafba60)\n",
      "\n",
      "QObject::moveToThread: Current thread (0x55b6fbafba60) is not the object's thread (0x55b6fb174a20).\n",
      "Cannot move to target thread (0x55b6fbafba60)\n",
      "\n",
      "QObject::moveToThread: Current thread (0x55b6fbafba60) is not the object's thread (0x55b6fb174a20).\n",
      "Cannot move to target thread (0x55b6fbafba60)\n",
      "\n",
      "QObject::moveToThread: Current thread (0x55b6fbafba60) is not the object's thread (0x55b6fb174a20).\n",
      "Cannot move to target thread (0x55b6fbafba60)\n",
      "\n",
      "QObject::moveToThread: Current thread (0x55b6fbafba60) is not the object's thread (0x55b6fb174a20).\n",
      "Cannot move to target thread (0x55b6fbafba60)\n",
      "\n",
      "QObject::moveToThread: Current thread (0x55b6fbafba60) is not the object's thread (0x55b6fb174a20).\n",
      "Cannot move to target thread (0x55b6fbafba60)\n",
      "\n",
      "QObject::moveToThread: Current thread (0x55b6fbafba60) is not the object's thread (0x55b6fb174a20).\n",
      "Cannot move to target thread (0x55b6fbafba60)\n",
      "\n",
      "QObject::moveToThread: Current thread (0x55b6fbafba60) is not the object's thread (0x55b6fb174a20).\n",
      "Cannot move to target thread (0x55b6fbafba60)\n",
      "\n",
      "QObject::moveToThread: Current thread (0x55b6fbafba60) is not the object's thread (0x55b6fb174a20).\n",
      "Cannot move to target thread (0x55b6fbafba60)\n",
      "\n",
      "QObject::moveToThread: Current thread (0x55b6fbafba60) is not the object's thread (0x55b6fb174a20).\n",
      "Cannot move to target thread (0x55b6fbafba60)\n",
      "\n",
      "QObject::moveToThread: Current thread (0x55b6fbafba60) is not the object's thread (0x55b6fb174a20).\n",
      "Cannot move to target thread (0x55b6fbafba60)\n",
      "\n",
      "QObject::moveToThread: Current thread (0x55b6fbafba60) is not the object's thread (0x55b6fb174a20).\n",
      "Cannot move to target thread (0x55b6fbafba60)\n",
      "\n",
      "QObject::moveToThread: Current thread (0x55b6fbafba60) is not the object's thread (0x55b6fb174a20).\n",
      "Cannot move to target thread (0x55b6fbafba60)\n",
      "\n",
      "QObject::moveToThread: Current thread (0x55b6fbafba60) is not the object's thread (0x55b6fb174a20).\n",
      "Cannot move to target thread (0x55b6fbafba60)\n",
      "\n",
      "QObject::moveToThread: Current thread (0x55b6fbafba60) is not the object's thread (0x55b6fb174a20).\n",
      "Cannot move to target thread (0x55b6fbafba60)\n",
      "\n",
      "QObject::moveToThread: Current thread (0x55b6fbafba60) is not the object's thread (0x55b6fb174a20).\n",
      "Cannot move to target thread (0x55b6fbafba60)\n",
      "\n",
      "QObject::moveToThread: Current thread (0x55b6fbafba60) is not the object's thread (0x55b6fb174a20).\n",
      "Cannot move to target thread (0x55b6fbafba60)\n",
      "\n",
      "QObject::moveToThread: Current thread (0x55b6fbafba60) is not the object's thread (0x55b6fb174a20).\n",
      "Cannot move to target thread (0x55b6fbafba60)\n",
      "\n",
      "QObject::moveToThread: Current thread (0x55b6fbafba60) is not the object's thread (0x55b6fb174a20).\n",
      "Cannot move to target thread (0x55b6fbafba60)\n",
      "\n",
      "QObject::moveToThread: Current thread (0x55b6fbafba60) is not the object's thread (0x55b6fb174a20).\n",
      "Cannot move to target thread (0x55b6fbafba60)\n",
      "\n",
      "QObject::moveToThread: Current thread (0x55b6fbafba60) is not the object's thread (0x55b6fb174a20).\n",
      "Cannot move to target thread (0x55b6fbafba60)\n",
      "\n",
      "QObject::moveToThread: Current thread (0x55b6fbafba60) is not the object's thread (0x55b6fb174a20).\n",
      "Cannot move to target thread (0x55b6fbafba60)\n",
      "\n",
      "QObject::moveToThread: Current thread (0x55b6fbafba60) is not the object's thread (0x55b6fb174a20).\n",
      "Cannot move to target thread (0x55b6fbafba60)\n",
      "\n"
     ]
    }
   ],
   "source": [
    "cap = cv2.VideoCapture(0)\n",
    "width = int(cap.get(cv2.CAP_PROP_FRAME_WIDTH))\n",
    "height = int(cap.get(cv2.CAP_PROP_FRAME_HEIGHT))\n",
    "\n",
    "while cap.isOpened(): \n",
    "    ret, frame = cap.read()\n",
    "    image_np = np.array(frame)\n",
    "    \n",
    "    input_tensor = tf.convert_to_tensor(np.expand_dims(image_np, 0), dtype=tf.float32)\n",
    "    detections = detect_fn(input_tensor)\n",
    "    \n",
    "    num_detections = int(detections.pop('num_detections'))\n",
    "    detections = {key: value[0, :num_detections].numpy()\n",
    "                  for key, value in detections.items()}\n",
    "    detections['num_detections'] = num_detections\n",
    "\n",
    "    # detection_classes should be ints.\n",
    "    detections['detection_classes'] = detections['detection_classes'].astype(np.int64)\n",
    "\n",
    "    label_id_offset = 1\n",
    "    image_np_with_detections = image_np.copy()\n",
    "\n",
    "    viz_utils.visualize_boxes_and_labels_on_image_array(\n",
    "                image_np_with_detections,\n",
    "                detections['detection_boxes'],\n",
    "                detections['detection_classes']+label_id_offset,\n",
    "                detections['detection_scores'],\n",
    "                category_index,\n",
    "                use_normalized_coordinates=True,\n",
    "                max_boxes_to_draw=5,\n",
    "                min_score_thresh=.8,\n",
    "                agnostic_mode=False)\n",
    "\n",
    "    cv2.imshow('object detection',  cv2.resize(image_np_with_detections, (800, 600)))\n",
    "    \n",
    "    if cv2.waitKey(10) & 0xFF == ord('q'):\n",
    "        cap.release()\n",
    "        cv2.destroyAllWindows()\n",
    "        break\n"
   ]
  },
  {
   "cell_type": "code",
   "execution_count": 44,
   "metadata": {},
   "outputs": [
    {
     "output_type": "stream",
     "name": "stdout",
     "text": [
      "\u001b[33mWARNING: Skipping opencv-python-headless as it is not installed.\u001b[0m\n"
     ]
    }
   ],
   "source": [
    "!pip uninstall opencv-python-headless -y"
   ]
  },
  {
   "cell_type": "code",
   "execution_count": 45,
   "metadata": {},
   "outputs": [
    {
     "output_type": "stream",
     "name": "stdout",
     "text": [
      "Requirement already satisfied: opencv-python in /home/uruk380/anaconda3/envs/Tensorflow_Object_Detection_env/lib/python3.8/site-packages (4.5.3.56)\n",
      "Requirement already satisfied: numpy>=1.17.3 in /home/uruk380/.local/lib/python3.8/site-packages (from opencv-python) (1.19.5)\n",
      "Note: you may need to restart the kernel to use updated packages.\n"
     ]
    }
   ],
   "source": [
    "pip install opencv-python --upgrade"
   ]
  },
  {
   "cell_type": "code",
   "execution_count": 1,
   "metadata": {},
   "outputs": [
    {
     "output_type": "stream",
     "name": "stdout",
     "text": [
      "Collecting package metadata (current_repodata.json): done\n",
      "Solving environment: done\n",
      "\n",
      "# All requested packages already installed.\n",
      "\n",
      "\n",
      "Note: you may need to restart the kernel to use updated packages.\n"
     ]
    }
   ],
   "source": [
    "conda install pyqt"
   ]
  },
  {
   "source": [
    "# 10. Freezing the Graph"
   ],
   "cell_type": "markdown",
   "metadata": {}
  },
  {
   "cell_type": "code",
   "execution_count": 55,
   "metadata": {},
   "outputs": [],
   "source": [
    "FREEZE_SCRIPT = os.path.join(paths['APIMODEL_PATH'], 'research', 'object_detection', 'exporter_main_v2.py ')"
   ]
  },
  {
   "cell_type": "code",
   "execution_count": 56,
   "metadata": {},
   "outputs": [],
   "source": [
    "command = \"python3 {} --input_type=image_tensor --pipeline_config_path={} --trained_checkpoint_dir={} --output_directory={}\".format(FREEZE_SCRIPT ,files['PIPELINE_CONFIG'], paths['CHECKPOINT_PATH'], paths['OUTPUT_PATH'])"
   ]
  },
  {
   "cell_type": "code",
   "execution_count": 57,
   "metadata": {},
   "outputs": [
    {
     "output_type": "stream",
     "name": "stdout",
     "text": [
      "python3 Nicholas_Renotte_Course/Models/research/object_detection/exporter_main_v2.py  --input_type=image_tensor --pipeline_config_path=Nicholas_Renotte_Course/Workspace/Models/my_ssd_mobnet/pipeline.config --trained_checkpoint_dir=Nicholas_Renotte_Course/Workspace/Models/my_ssd_mobnet --output_directory=Nicholas_Renotte_Course/Workspace/Models/my_ssd_mobnet/export\n"
     ]
    }
   ],
   "source": [
    "print(command)"
   ]
  },
  {
   "cell_type": "code",
   "execution_count": 37,
   "metadata": {},
   "outputs": [],
   "source": [
    "!(command)"
   ]
  },
  {
   "source": [
    "# 11. Conversion to TFJS"
   ],
   "cell_type": "markdown",
   "metadata": {}
  },
  {
   "source": [
    "We can alose use our model inside of web applications.\n",
    "By saving our model in TFJS format we can buikd web applications with them."
   ],
   "cell_type": "markdown",
   "metadata": {}
  },
  {
   "cell_type": "code",
   "execution_count": 58,
   "metadata": {},
   "outputs": [
    {
     "output_type": "stream",
     "name": "stdout",
     "text": [
      "Collecting tensorflowjs\n",
      "  Downloading tensorflowjs-3.8.0-py3-none-any.whl (64 kB)\n",
      "\u001b[K     |████████████████████████████████| 64 kB 454 kB/s \n",
      "\u001b[?25hRequirement already satisfied: tensorflow<3,>=2.1.0 in /home/uruk380/.local/lib/python3.8/site-packages (from tensorflowjs) (2.5.0)\n",
      "Requirement already satisfied: six<2,>=1.12.0 in /home/uruk380/.local/lib/python3.8/site-packages (from tensorflowjs) (1.15.0)\n",
      "Requirement already satisfied: tensorflow-hub<0.13,>=0.7.0 in /home/uruk380/anaconda3/envs/Tensorflow_Object_Detection_env/lib/python3.8/site-packages (from tensorflowjs) (0.12.0)\n",
      "Requirement already satisfied: wheel~=0.35 in /home/uruk380/.local/lib/python3.8/site-packages (from tensorflow<3,>=2.1.0->tensorflowjs) (0.36.2)\n",
      "Requirement already satisfied: astunparse~=1.6.3 in /home/uruk380/.local/lib/python3.8/site-packages (from tensorflow<3,>=2.1.0->tensorflowjs) (1.6.3)\n",
      "Requirement already satisfied: typing-extensions~=3.7.4 in /home/uruk380/.local/lib/python3.8/site-packages (from tensorflow<3,>=2.1.0->tensorflowjs) (3.7.4.3)\n",
      "Requirement already satisfied: gast==0.4.0 in /home/uruk380/.local/lib/python3.8/site-packages (from tensorflow<3,>=2.1.0->tensorflowjs) (0.4.0)\n",
      "Requirement already satisfied: keras-nightly~=2.5.0.dev in /home/uruk380/.local/lib/python3.8/site-packages (from tensorflow<3,>=2.1.0->tensorflowjs) (2.5.0.dev2021032900)\n",
      "Requirement already satisfied: protobuf>=3.9.2 in /home/uruk380/anaconda3/envs/Tensorflow_Object_Detection_env/lib/python3.8/site-packages (from tensorflow<3,>=2.1.0->tensorflowjs) (3.17.3)\n",
      "Requirement already satisfied: google-pasta~=0.2 in /home/uruk380/.local/lib/python3.8/site-packages (from tensorflow<3,>=2.1.0->tensorflowjs) (0.2.0)\n",
      "Requirement already satisfied: opt-einsum~=3.3.0 in /home/uruk380/.local/lib/python3.8/site-packages (from tensorflow<3,>=2.1.0->tensorflowjs) (3.3.0)\n",
      "Requirement already satisfied: absl-py~=0.10 in /home/uruk380/.local/lib/python3.8/site-packages (from tensorflow<3,>=2.1.0->tensorflowjs) (0.12.0)\n",
      "Requirement already satisfied: tensorflow-estimator<2.6.0,>=2.5.0rc0 in /home/uruk380/.local/lib/python3.8/site-packages (from tensorflow<3,>=2.1.0->tensorflowjs) (2.5.0)\n",
      "Requirement already satisfied: flatbuffers~=1.12.0 in /home/uruk380/.local/lib/python3.8/site-packages (from tensorflow<3,>=2.1.0->tensorflowjs) (1.12)\n",
      "Requirement already satisfied: numpy~=1.19.2 in /home/uruk380/.local/lib/python3.8/site-packages (from tensorflow<3,>=2.1.0->tensorflowjs) (1.19.5)\n",
      "Requirement already satisfied: h5py~=3.1.0 in /home/uruk380/.local/lib/python3.8/site-packages (from tensorflow<3,>=2.1.0->tensorflowjs) (3.1.0)\n",
      "Requirement already satisfied: tensorboard~=2.5 in /home/uruk380/.local/lib/python3.8/site-packages (from tensorflow<3,>=2.1.0->tensorflowjs) (2.5.0)\n",
      "Requirement already satisfied: grpcio~=1.34.0 in /home/uruk380/.local/lib/python3.8/site-packages (from tensorflow<3,>=2.1.0->tensorflowjs) (1.34.1)\n",
      "Requirement already satisfied: termcolor~=1.1.0 in /home/uruk380/.local/lib/python3.8/site-packages (from tensorflow<3,>=2.1.0->tensorflowjs) (1.1.0)\n",
      "Requirement already satisfied: keras-preprocessing~=1.1.2 in /home/uruk380/.local/lib/python3.8/site-packages (from tensorflow<3,>=2.1.0->tensorflowjs) (1.1.2)\n",
      "Requirement already satisfied: wrapt~=1.12.1 in /home/uruk380/.local/lib/python3.8/site-packages (from tensorflow<3,>=2.1.0->tensorflowjs) (1.12.1)\n",
      "Requirement already satisfied: setuptools>=41.0.0 in /home/uruk380/anaconda3/envs/Tensorflow_Object_Detection_env/lib/python3.8/site-packages (from tensorboard~=2.5->tensorflow<3,>=2.1.0->tensorflowjs) (52.0.0.post20210125)\n",
      "Requirement already satisfied: tensorboard-plugin-wit>=1.6.0 in /home/uruk380/.local/lib/python3.8/site-packages (from tensorboard~=2.5->tensorflow<3,>=2.1.0->tensorflowjs) (1.8.0)\n",
      "Requirement already satisfied: markdown>=2.6.8 in /home/uruk380/anaconda3/envs/Tensorflow_Object_Detection_env/lib/python3.8/site-packages (from tensorboard~=2.5->tensorflow<3,>=2.1.0->tensorflowjs) (3.3.4)\n",
      "Requirement already satisfied: google-auth-oauthlib<0.5,>=0.4.1 in /home/uruk380/.local/lib/python3.8/site-packages (from tensorboard~=2.5->tensorflow<3,>=2.1.0->tensorflowjs) (0.4.4)\n",
      "Requirement already satisfied: requests<3,>=2.21.0 in /home/uruk380/anaconda3/envs/Tensorflow_Object_Detection_env/lib/python3.8/site-packages (from tensorboard~=2.5->tensorflow<3,>=2.1.0->tensorflowjs) (2.26.0)\n",
      "Requirement already satisfied: google-auth<2,>=1.6.3 in /home/uruk380/.local/lib/python3.8/site-packages (from tensorboard~=2.5->tensorflow<3,>=2.1.0->tensorflowjs) (1.32.1)\n",
      "Requirement already satisfied: werkzeug>=0.11.15 in /home/uruk380/.local/lib/python3.8/site-packages (from tensorboard~=2.5->tensorflow<3,>=2.1.0->tensorflowjs) (2.0.1)\n",
      "Requirement already satisfied: tensorboard-data-server<0.7.0,>=0.6.0 in /home/uruk380/.local/lib/python3.8/site-packages (from tensorboard~=2.5->tensorflow<3,>=2.1.0->tensorflowjs) (0.6.1)\n",
      "Requirement already satisfied: cachetools<5.0,>=2.0.0 in /home/uruk380/.local/lib/python3.8/site-packages (from google-auth<2,>=1.6.3->tensorboard~=2.5->tensorflow<3,>=2.1.0->tensorflowjs) (4.2.2)\n",
      "Requirement already satisfied: pyasn1-modules>=0.2.1 in /home/uruk380/.local/lib/python3.8/site-packages (from google-auth<2,>=1.6.3->tensorboard~=2.5->tensorflow<3,>=2.1.0->tensorflowjs) (0.2.8)\n",
      "Requirement already satisfied: rsa<5,>=3.1.4 in /home/uruk380/.local/lib/python3.8/site-packages (from google-auth<2,>=1.6.3->tensorboard~=2.5->tensorflow<3,>=2.1.0->tensorflowjs) (4.7.2)\n",
      "Requirement already satisfied: requests-oauthlib>=0.7.0 in /home/uruk380/.local/lib/python3.8/site-packages (from google-auth-oauthlib<0.5,>=0.4.1->tensorboard~=2.5->tensorflow<3,>=2.1.0->tensorflowjs) (1.3.0)\n",
      "Requirement already satisfied: pyasn1<0.5.0,>=0.4.6 in /home/uruk380/.local/lib/python3.8/site-packages (from pyasn1-modules>=0.2.1->google-auth<2,>=1.6.3->tensorboard~=2.5->tensorflow<3,>=2.1.0->tensorflowjs) (0.4.8)\n",
      "Requirement already satisfied: certifi>=2017.4.17 in /home/uruk380/anaconda3/envs/Tensorflow_Object_Detection_env/lib/python3.8/site-packages (from requests<3,>=2.21.0->tensorboard~=2.5->tensorflow<3,>=2.1.0->tensorflowjs) (2021.5.30)\n",
      "Requirement already satisfied: urllib3<1.27,>=1.21.1 in /home/uruk380/anaconda3/envs/Tensorflow_Object_Detection_env/lib/python3.8/site-packages (from requests<3,>=2.21.0->tensorboard~=2.5->tensorflow<3,>=2.1.0->tensorflowjs) (1.26.6)\n",
      "Requirement already satisfied: charset-normalizer~=2.0.0 in /home/uruk380/anaconda3/envs/Tensorflow_Object_Detection_env/lib/python3.8/site-packages (from requests<3,>=2.21.0->tensorboard~=2.5->tensorflow<3,>=2.1.0->tensorflowjs) (2.0.3)\n",
      "Requirement already satisfied: idna<4,>=2.5 in /home/uruk380/anaconda3/envs/Tensorflow_Object_Detection_env/lib/python3.8/site-packages (from requests<3,>=2.21.0->tensorboard~=2.5->tensorflow<3,>=2.1.0->tensorflowjs) (3.2)\n",
      "Requirement already satisfied: oauthlib>=3.0.0 in /home/uruk380/anaconda3/envs/Tensorflow_Object_Detection_env/lib/python3.8/site-packages (from requests-oauthlib>=0.7.0->google-auth-oauthlib<0.5,>=0.4.1->tensorboard~=2.5->tensorflow<3,>=2.1.0->tensorflowjs) (3.1.1)\n",
      "Installing collected packages: tensorflowjs\n",
      "Successfully installed tensorflowjs-3.8.0\n"
     ]
    }
   ],
   "source": [
    "!pip install tensorflowjs"
   ]
  },
  {
   "cell_type": "code",
   "execution_count": 59,
   "metadata": {},
   "outputs": [],
   "source": [
    "command = \"tensorflowjs_converter --input_format=tf_saved_model --output_node_names='detection_boxes,detection_classes,detection_features,detection_multiclass_scores,detection_scores,num_detections,raw_detection_boxes,raw_detection_scores' --output_format=tfjs_graph_model --signature_name=serving_default {} {}\".format(os.path.join(paths['OUTPUT_PATH'], 'saved_model'), paths['TFJS_PATH'])"
   ]
  },
  {
   "cell_type": "code",
   "execution_count": 62,
   "metadata": {},
   "outputs": [
    {
     "output_type": "stream",
     "name": "stdout",
     "text": [
      "tensorflowjs_converter --input_format=tf_saved_model --output_node_names='detection_boxes,detection_classes,detection_features,detection_multiclass_scores,detection_scores,num_detections,raw_detection_boxes,raw_detection_scores' --output_format=tfjs_graph_model --signature_name=serving_default Nicholas_Renotte_Course/Workspace/Models/my_ssd_mobnet/export/saved_model Nicholas_Renotte_Course/Workspace/Models/my_ssd_mobnet/tfjsexport\n"
     ]
    }
   ],
   "source": [
    "print(command)"
   ]
  },
  {
   "cell_type": "code",
   "execution_count": 63,
   "metadata": {},
   "outputs": [
    {
     "output_type": "stream",
     "name": "stdout",
     "text": [
      "2021-07-20 21:49:45.721979: W tensorflow/stream_executor/platform/default/dso_loader.cc:64] Could not load dynamic library 'libcudart.so.11.0'; dlerror: libcudart.so.11.0: cannot open shared object file: No such file or directory\n",
      "2021-07-20 21:49:45.722004: I tensorflow/stream_executor/cuda/cudart_stub.cc:29] Ignore above cudart dlerror if you do not have a GPU set up on your machine.\n",
      "2021-07-20 21:49:47.625448: W tensorflow/stream_executor/platform/default/dso_loader.cc:64] Could not load dynamic library 'libcuda.so.1'; dlerror: libcuda.so.1: cannot open shared object file: No such file or directory\n",
      "2021-07-20 21:49:47.625474: W tensorflow/stream_executor/cuda/cuda_driver.cc:326] failed call to cuInit: UNKNOWN ERROR (303)\n",
      "2021-07-20 21:49:47.625490: I tensorflow/stream_executor/cuda/cuda_diagnostics.cc:156] kernel driver does not appear to be running on this host (uruk380-Lenovo-Yoga-C940-14IIL): /proc/driver/nvidia/version does not exist\n",
      "2021-07-20 21:49:47.625648: I tensorflow/core/platform/cpu_feature_guard.cc:142] This TensorFlow binary is optimized with oneAPI Deep Neural Network Library (oneDNN) to use the following CPU instructions in performance-critical operations:  AVX2 AVX512F FMA\n",
      "To enable them in other operations, rebuild TensorFlow with the appropriate compiler flags.\n",
      "2021-07-20 21:49:54.396278: I tensorflow/core/grappler/devices.cc:69] Number of eligible GPUs (core count >= 8, compute capability >= 0.0): 0\n",
      "2021-07-20 21:49:54.396406: I tensorflow/core/grappler/clusters/single_machine.cc:357] Starting new session\n",
      "2021-07-20 21:49:54.420737: I tensorflow/core/platform/profile_utils/cpu_utils.cc:114] CPU Frequency: 1497600000 Hz\n",
      "2021-07-20 21:49:54.616513: I tensorflow/core/grappler/optimizers/meta_optimizer.cc:1144] Optimization results for grappler item: graph_to_optimize\n",
      "  function_optimizer: Graph size after: 3841 nodes (3432), 8222 edges (7806), time = 119.632ms.\n",
      "  function_optimizer: function_optimizer did nothing. time = 2.763ms.\n",
      "\n",
      "2021-07-20 21:49:57.772738: I tensorflow/core/grappler/optimizers/meta_optimizer.cc:1144] Optimization results for grappler item: graph_to_optimize\n",
      "  debug_stripper: Graph size after: 3554 nodes (0), 7993 edges (0), time = 3.993ms.\n",
      "  model_pruner: Graph size after: 3111 nodes (-443), 7550 edges (-443), time = 29.812ms.\n",
      "  constant_folding: Graph size after: 1530 nodes (-1581), 5720 edges (-1830), time = 159.377ms.\n",
      "  arithmetic_optimizer: Graph size after: 1546 nodes (16), 5744 edges (24), time = 32.481ms.\n",
      "  dependency_optimizer: Graph size after: 1456 nodes (-90), 1648 edges (-4096), time = 27.003ms.\n",
      "  model_pruner: Graph size after: 1456 nodes (0), 1648 edges (0), time = 14.024ms.\n",
      "  constant_folding: Graph size after: 1456 nodes (0), 1648 edges (0), time = 45.851ms.\n",
      "  arithmetic_optimizer: Graph size after: 1456 nodes (0), 1648 edges (0), time = 36.293ms.\n",
      "  dependency_optimizer: Graph size after: 1456 nodes (0), 1648 edges (0), time = 21.479ms.\n",
      "  debug_stripper: debug_stripper did nothing. time = 2.674ms.\n",
      "  model_pruner: Graph size after: 1456 nodes (0), 1648 edges (0), time = 10.823ms.\n",
      "  constant_folding: Graph size after: 1456 nodes (0), 1648 edges (0), time = 37.54ms.\n",
      "  arithmetic_optimizer: Graph size after: 1456 nodes (0), 1648 edges (0), time = 32.958ms.\n",
      "  dependency_optimizer: Graph size after: 1456 nodes (0), 1648 edges (0), time = 22.714ms.\n",
      "  model_pruner: Graph size after: 1456 nodes (0), 1648 edges (0), time = 13.12ms.\n",
      "  constant_folding: Graph size after: 1456 nodes (0), 1648 edges (0), time = 39.929ms.\n",
      "  arithmetic_optimizer: Graph size after: 1456 nodes (0), 1648 edges (0), time = 30.004ms.\n",
      "  dependency_optimizer: Graph size after: 1456 nodes (0), 1648 edges (0), time = 19.359ms.\n",
      "\n",
      "2021-07-20 21:50:04.403139: I tensorflow/core/grappler/optimizers/meta_optimizer.cc:1144] Optimization results for grappler item: graph_to_optimize\n",
      "  remapper: Graph size after: 1420 nodes (-112), 1308 edges (-112), time = 4.656ms.\n",
      "  constant_folding: Graph size after: 1116 nodes (-304), 1308 edges (0), time = 42.544ms.\n",
      "  arithmetic_optimizer: Graph size after: 1116 nodes (0), 1308 edges (0), time = 17.158ms.\n",
      "  dependency_optimizer: Graph size after: 1116 nodes (0), 1308 edges (0), time = 8.991ms.\n",
      "  remapper: Graph size after: 1116 nodes (0), 1308 edges (0), time = 5.854ms.\n",
      "  constant_folding: Graph size after: 1116 nodes (0), 1308 edges (0), time = 22.369ms.\n",
      "  arithmetic_optimizer: Graph size after: 1116 nodes (0), 1308 edges (0), time = 19.227ms.\n",
      "  dependency_optimizer: Graph size after: 1116 nodes (0), 1308 edges (0), time = 13.877ms.\n",
      "\n",
      "Writing weight file Nicholas_Renotte_Course/Workspace/Models/my_ssd_mobnet/tfjsexport/model.json...\n"
     ]
    }
   ],
   "source": [
    "!{command}"
   ]
  },
  {
   "source": [
    "# 12. Convertion to TFLite"
   ],
   "cell_type": "markdown",
   "metadata": {}
  },
  {
   "source": [
    "TFLite is another file format that is typically used for mobile applications or machines that can't or won't be running a full version of Tensorflow Object detection.\n",
    "Useful for Raspberry Pi projects"
   ],
   "cell_type": "markdown",
   "metadata": {}
  },
  {
   "cell_type": "code",
   "execution_count": 74,
   "metadata": {},
   "outputs": [],
   "source": [
    "TFLITE_SCRIPT = os.path.join(paths['APIMODEL_PATH'], 'research', 'object_detection', 'export_tflite_graph_tf2.py ')"
   ]
  },
  {
   "cell_type": "code",
   "execution_count": 75,
   "metadata": {},
   "outputs": [],
   "source": [
    "command = \"python3 {} --pipeline_config_path={} --trained_checkpoint_dir={} --output_directory={}\".format(TFLITE_SCRIPT ,files['PIPELINE_CONFIG'], paths['CHECKPOINT_PATH'], paths['TFLITE_PATH'])"
   ]
  },
  {
   "cell_type": "code",
   "execution_count": 67,
   "metadata": {},
   "outputs": [
    {
     "output_type": "stream",
     "name": "stdout",
     "text": [
      "python3 Nicholas_Renotte_Course/Models/research/object_detection/export_tflite_graph_tf2.py  --pipeline_config_path=Nicholas_Renotte_Course/Workspace/Models/my_ssd_mobnet/pipeline.config --trained_checkpoint_dir=Nicholas_Renotte_Course/Workspace/Models/my_ssd_mobnet --output_directory=Nicholas_Renotte_Course/Workspace/Models/my_ssd_mobnet/tfliteexport\n"
     ]
    }
   ],
   "source": [
    "print(command)"
   ]
  },
  {
   "cell_type": "code",
   "execution_count": null,
   "metadata": {},
   "outputs": [],
   "source": [
    "!{command}"
   ]
  },
  {
   "cell_type": "code",
   "execution_count": 76,
   "metadata": {},
   "outputs": [],
   "source": [
    "FROZEN_TFLITE_PATH = os.path.join(paths['TFLITE_PATH'], 'saved_model')\n",
    "TFLITE_MODEL = os.path.join(paths['TFLITE_PATH'], 'saved_model', 'detect.tflite')\n"
   ]
  },
  {
   "cell_type": "code",
   "execution_count": 77,
   "metadata": {},
   "outputs": [],
   "source": [
    "command = \"tflite_convert \\\n",
    "--saved_model_dir={} \\\n",
    "--output_file={} \\\n",
    "--input_shapes=1,300,300,3 \\\n",
    "--input_arrays=normalized_input_image_tensor \\\n",
    "--output_arrays='TFLite_Detection_PostProcess','TFLite_Detection_PostProcess:1','TFLite_Detection_PostProcess:2','TFLite_Detection_PostProcess:3' \\\n",
    "--inference_type=FLOAT \\\n",
    "--allow_custom_ops\".format(FROZEN_TFLITE_PATH, TFLITE_MODEL, )"
   ]
  },
  {
   "cell_type": "code",
   "execution_count": 78,
   "metadata": {},
   "outputs": [
    {
     "output_type": "stream",
     "name": "stdout",
     "text": [
      "tflite_convert --saved_model_dir=Nicholas_Renotte_Course/Workspace/Models/my_ssd_mobnet/tfliteexport/saved_model --output_file=Nicholas_Renotte_Course/Workspace/Models/my_ssd_mobnet/tfliteexport/saved_model/detect.tflite --input_shapes=1,300,300,3 --input_arrays=normalized_input_image_tensor --output_arrays='TFLite_Detection_PostProcess','TFLite_Detection_PostProcess:1','TFLite_Detection_PostProcess:2','TFLite_Detection_PostProcess:3' --inference_type=FLOAT --allow_custom_ops\n"
     ]
    }
   ],
   "source": [
    "print(command)"
   ]
  },
  {
   "cell_type": "code",
   "execution_count": null,
   "metadata": {},
   "outputs": [],
   "source": [
    "!{command}"
   ]
  },
  {
   "source": [
    "I have this error when I run the previous command :( :\n",
    "AttributeError: 'google.protobuf.pyext._message.RepeatedCompositeCo' object has no attribute 'append'"
   ],
   "cell_type": "markdown",
   "metadata": {}
  },
  {
   "source": [
    "# 13. Zip and Export Models"
   ],
   "cell_type": "markdown",
   "metadata": {}
  },
  {
   "cell_type": "code",
   "execution_count": 79,
   "metadata": {},
   "outputs": [],
   "source": [
    "!tar -czf models.tar.gz {paths['CHECKPOINT_PATH']}"
   ]
  },
  {
   "cell_type": "code",
   "execution_count": null,
   "metadata": {},
   "outputs": [],
   "source": [
    "from google.colab import drive\n",
    "drive.mount('/content/drive')"
   ]
  },
  {
   "source": [
    "# Performance tuning to improve Precision and recall"
   ],
   "cell_type": "markdown",
   "metadata": {}
  },
  {
   "source": [
    "Techniques\n",
    "There are couple of things we can try in order to boost model performance.\n",
    "- Adding more images of low performing classes to our training set\n",
    "- Training for longer\n",
    "- Changing architecture"
   ],
   "cell_type": "markdown",
   "metadata": {}
  },
  {
   "cell_type": "code",
   "execution_count": null,
   "metadata": {},
   "outputs": [],
   "source": []
  }
 ]
}